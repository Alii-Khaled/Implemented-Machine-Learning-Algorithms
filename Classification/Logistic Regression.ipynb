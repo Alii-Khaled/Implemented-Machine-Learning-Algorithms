{
 "cells": [
  {
   "cell_type": "code",
   "execution_count": 1,
   "metadata": {},
   "outputs": [],
   "source": [
    "import pandas as pd\n",
    "import numpy as np\n",
    "import string"
   ]
  },
  {
   "cell_type": "code",
   "execution_count": 2,
   "metadata": {},
   "outputs": [],
   "source": [
    "products = pd.read_csv(\"amazon_baby_subset.csv.zip\")"
   ]
  },
  {
   "cell_type": "code",
   "execution_count": 3,
   "metadata": {},
   "outputs": [],
   "source": [
    "def get_numpy_data(dataframe, features, label):\n",
    "    dataframe['constant'] = 1\n",
    "    features = ['constant'] + features\n",
    "    features_frame = dataframe[features]\n",
    "    feature_matrix = features_frame.as_matrix()\n",
    "    label_sarray = dataframe[label]\n",
    "    label_array = label_sarray.as_matrix()\n",
    "    return(feature_matrix, label_array) "
   ]
  },
  {
   "cell_type": "code",
   "execution_count": 4,
   "metadata": {},
   "outputs": [],
   "source": [
    "imp_words = pd.read_json('important_words.json.zip')"
   ]
  },
  {
   "cell_type": "code",
   "execution_count": 5,
   "metadata": {},
   "outputs": [],
   "source": [
    "imp_words = list(imp_words[0])"
   ]
  },
  {
   "cell_type": "code",
   "execution_count": 7,
   "metadata": {},
   "outputs": [],
   "source": [
    "products = products.fillna({'review':''})"
   ]
  },
  {
   "cell_type": "code",
   "execution_count": 8,
   "metadata": {},
   "outputs": [],
   "source": [
    "def remove_punctuation(text):\n",
    "    trans_table = str.maketrans('','',string.punctuation)\n",
    "    return text.translate(trans_table) "
   ]
  },
  {
   "cell_type": "code",
   "execution_count": 9,
   "metadata": {},
   "outputs": [],
   "source": [
    "products['review_clean'] = products['review'].apply(remove_punctuation)"
   ]
  },
  {
   "cell_type": "code",
   "execution_count": 10,
   "metadata": {},
   "outputs": [],
   "source": [
    "for word in imp_words:\n",
    "    products[word] = products['review_clean'].apply(lambda x:x.split().count(word))"
   ]
  },
  {
   "cell_type": "code",
   "execution_count": 13,
   "metadata": {},
   "outputs": [],
   "source": [
    "train_ind = pd.read_json('module-4-assignment-train-idx.json.zip')\n",
    "valid_ind = pd.read_json('module-4-assignment-validation-idx.json.zip')"
   ]
  },
  {
   "cell_type": "code",
   "execution_count": 25,
   "metadata": {},
   "outputs": [],
   "source": [
    "train = products.iloc[train_ind[0]]\n",
    "valid = products.iloc[valid_ind[0]]"
   ]
  },
  {
   "cell_type": "code",
   "execution_count": 26,
   "metadata": {},
   "outputs": [
    {
     "name": "stderr",
     "output_type": "stream",
     "text": [
      "C:\\Users\\akirar1230\\Anaconda3\\lib\\site-packages\\ipykernel_launcher.py:2: SettingWithCopyWarning: \n",
      "A value is trying to be set on a copy of a slice from a DataFrame.\n",
      "Try using .loc[row_indexer,col_indexer] = value instead\n",
      "\n",
      "See the caveats in the documentation: http://pandas.pydata.org/pandas-docs/stable/indexing.html#indexing-view-versus-copy\n",
      "  \n"
     ]
    }
   ],
   "source": [
    "feature_matrix_train, sentiment_train = get_numpy_data(train, imp_words, 'sentiment')\n",
    "feature_matrix_valid, sentiment_valid = get_numpy_data(valid, imp_words, 'sentiment') "
   ]
  },
  {
   "cell_type": "code",
   "execution_count": 27,
   "metadata": {},
   "outputs": [],
   "source": [
    "def predict_probability(feature_matrix, coefficients):\n",
    "    score = np.dot(feature_matrix, coefficients)\n",
    "    predictions = 1/(1+np.exp(-score))\n",
    "    \n",
    "    return predictions"
   ]
  },
  {
   "cell_type": "code",
   "execution_count": 29,
   "metadata": {},
   "outputs": [],
   "source": [
    "def feature_derivative_with_L2(errors, feature, coefficient, l2_penalty, feature_is_constant): \n",
    "    derv = np.dot(feature,errors)\n",
    "    if (feature_is_constant):\n",
    "        return derv\n",
    "    else:\n",
    "        return derv - 2*l2_penalty*coefficient"
   ]
  },
  {
   "cell_type": "code",
   "execution_count": 30,
   "metadata": {},
   "outputs": [],
   "source": [
    "def compute_log_likelihood_with_L2(feature_matrix, sentiment, coefficients, l2_penalty):\n",
    "    indicator = (sentiment==+1)\n",
    "    scores = np.dot(feature_matrix, coefficients)\n",
    "    \n",
    "    lp = np.sum((indicator-1)*scores - np.log(1. + np.exp(-scores))) - l2_penalty*np.sum(coefficients[1:]**2)\n",
    "    \n",
    "    return lp"
   ]
  },
  {
   "cell_type": "code",
   "execution_count": 32,
   "metadata": {},
   "outputs": [],
   "source": [
    "def logistic_regression_with_L2(feature_matrix, sentiment, initial_coefficients, step_size, l2_penalty, max_iter):\n",
    "    coefficients = np.array(initial_coefficients) # make sure it's a numpy array\n",
    "    for itr in range(max_iter):\n",
    "        # Predict P(y_i = +1|x_i,w) using your predict_probability() function\n",
    "        ## YOUR CODE HERE\n",
    "        predictions = predict_probability(coefficients=coefficients,feature_matrix=feature_matrix)\n",
    "        \n",
    "        # Compute indicator value for (y_i = +1)\n",
    "        indicator = (sentiment==+1)\n",
    "        \n",
    "        # Compute the errors as indicator - predictions\n",
    "        errors = indicator - predictions\n",
    "        for j in range(len(coefficients)): # loop over each coefficient\n",
    "            is_intercept = (j == 0)\n",
    "            # Recall that feature_matrix[:,j] is the feature column associated with coefficients[j].\n",
    "            # Compute the derivative for coefficients[j]. Save it in a variable called derivative\n",
    "            ## YOUR CODE HERE\n",
    "            derivative = feature_derivative_with_L2(errors, feature_matrix[:,j], coefficients[j], l2_penalty, is_intercept)\n",
    "            \n",
    "            # add the step size times the derivative to the current coefficient\n",
    "            ## YOUR CODE HERE\n",
    "            coefficients[j] += step_size*derivative\n",
    "        \n",
    "        # Checking whether log likelihood is increasing\n",
    "        if itr <= 15 or (itr <= 100 and itr % 10 == 0) or (itr <= 1000 and itr % 100 == 0) \\\n",
    "        or (itr <= 10000 and itr % 1000 == 0) or itr % 10000 == 0:\n",
    "            lp = compute_log_likelihood_with_L2(feature_matrix, sentiment, coefficients, l2_penalty)\n",
    "            print ('iteration %*d: log likelihood of observed labels = %.8f' % \\\n",
    "                (int(np.ceil(np.log10(max_iter))), itr, lp))\n",
    "    return coefficients"
   ]
  },
  {
   "cell_type": "code",
   "execution_count": 37,
   "metadata": {},
   "outputs": [],
   "source": [
    "L2_penalty_list = [0, 4, 10, 1e2, 1e3, 1e5]\n",
    "initial_coefficients = np.zeros(feature_matrix_train.shape[1])\n",
    "step_size = 5e-6\n",
    "max_iter = 501"
   ]
  },
  {
   "cell_type": "code",
   "execution_count": 38,
   "metadata": {},
   "outputs": [
    {
     "name": "stdout",
     "output_type": "stream",
     "text": [
      "iteration   0: log likelihood of observed labels = -29179.39138303\n",
      "iteration   1: log likelihood of observed labels = -29003.71259047\n",
      "iteration   2: log likelihood of observed labels = -28834.66187288\n",
      "iteration   3: log likelihood of observed labels = -28671.70781507\n",
      "iteration   4: log likelihood of observed labels = -28514.43078198\n",
      "iteration   5: log likelihood of observed labels = -28362.48344665\n",
      "iteration   6: log likelihood of observed labels = -28215.56713122\n",
      "iteration   7: log likelihood of observed labels = -28073.41743783\n",
      "iteration   8: log likelihood of observed labels = -27935.79536396\n",
      "iteration   9: log likelihood of observed labels = -27802.48168669\n",
      "iteration  10: log likelihood of observed labels = -27673.27331484\n",
      "iteration  11: log likelihood of observed labels = -27547.98083656\n",
      "iteration  12: log likelihood of observed labels = -27426.42679977\n",
      "iteration  13: log likelihood of observed labels = -27308.44444728\n",
      "iteration  14: log likelihood of observed labels = -27193.87673876\n",
      "iteration  15: log likelihood of observed labels = -27082.57555831\n",
      "iteration  20: log likelihood of observed labels = -26570.43059938\n",
      "iteration  30: log likelihood of observed labels = -25725.48742389\n",
      "iteration  40: log likelihood of observed labels = -25055.53326910\n",
      "iteration  50: log likelihood of observed labels = -24509.63590026\n",
      "iteration  60: log likelihood of observed labels = -24054.97906083\n",
      "iteration  70: log likelihood of observed labels = -23669.51640848\n",
      "iteration  80: log likelihood of observed labels = -23337.89167628\n",
      "iteration  90: log likelihood of observed labels = -23049.07066021\n",
      "iteration 100: log likelihood of observed labels = -22794.90974921\n",
      "iteration 200: log likelihood of observed labels = -21283.29527353\n",
      "iteration 300: log likelihood of observed labels = -20570.97485473\n",
      "iteration 400: log likelihood of observed labels = -20152.21466944\n",
      "iteration 500: log likelihood of observed labels = -19876.62333410\n",
      "iteration   0: log likelihood of observed labels = -29179.39508175\n",
      "iteration   1: log likelihood of observed labels = -29003.73417180\n",
      "iteration   2: log likelihood of observed labels = -28834.71441858\n",
      "iteration   3: log likelihood of observed labels = -28671.80345068\n",
      "iteration   4: log likelihood of observed labels = -28514.58077957\n",
      "iteration   5: log likelihood of observed labels = -28362.69830317\n",
      "iteration   6: log likelihood of observed labels = -28215.85663259\n",
      "iteration   7: log likelihood of observed labels = -28073.79071393\n",
      "iteration   8: log likelihood of observed labels = -27936.26093762\n",
      "iteration   9: log likelihood of observed labels = -27803.04751805\n",
      "iteration  10: log likelihood of observed labels = -27673.94684207\n",
      "iteration  11: log likelihood of observed labels = -27548.76901327\n",
      "iteration  12: log likelihood of observed labels = -27427.33612958\n",
      "iteration  13: log likelihood of observed labels = -27309.48101569\n",
      "iteration  14: log likelihood of observed labels = -27195.04624253\n",
      "iteration  15: log likelihood of observed labels = -27083.88333261\n",
      "iteration  20: log likelihood of observed labels = -26572.49874392\n",
      "iteration  30: log likelihood of observed labels = -25729.32604153\n",
      "iteration  40: log likelihood of observed labels = -25061.34245801\n",
      "iteration  50: log likelihood of observed labels = -24517.52091982\n",
      "iteration  60: log likelihood of observed labels = -24064.99093939\n",
      "iteration  70: log likelihood of observed labels = -23681.67373669\n",
      "iteration  80: log likelihood of observed labels = -23352.19298741\n",
      "iteration  90: log likelihood of observed labels = -23065.50180166\n",
      "iteration 100: log likelihood of observed labels = -22813.44844580\n",
      "iteration 200: log likelihood of observed labels = -21321.14164794\n",
      "iteration 300: log likelihood of observed labels = -20624.98634439\n",
      "iteration 400: log likelihood of observed labels = -20219.92048845\n",
      "iteration 500: log likelihood of observed labels = -19956.11341777\n",
      "iteration   0: log likelihood of observed labels = -29179.40062984\n",
      "iteration   1: log likelihood of observed labels = -29003.76654163\n",
      "iteration   2: log likelihood of observed labels = -28834.79322654\n",
      "iteration   3: log likelihood of observed labels = -28671.94687528\n",
      "iteration   4: log likelihood of observed labels = -28514.80571589\n",
      "iteration   5: log likelihood of observed labels = -28363.02048079\n",
      "iteration   6: log likelihood of observed labels = -28216.29071186\n",
      "iteration   7: log likelihood of observed labels = -28074.35036891\n",
      "iteration   8: log likelihood of observed labels = -27936.95892966\n",
      "iteration   9: log likelihood of observed labels = -27803.89576265\n",
      "iteration  10: log likelihood of observed labels = -27674.95647005\n",
      "iteration  11: log likelihood of observed labels = -27549.95042714\n",
      "iteration  12: log likelihood of observed labels = -27428.69905549\n",
      "iteration  13: log likelihood of observed labels = -27311.03455140\n",
      "iteration  14: log likelihood of observed labels = -27196.79890162\n",
      "iteration  15: log likelihood of observed labels = -27085.84308528\n",
      "iteration  20: log likelihood of observed labels = -26575.59697506\n",
      "iteration  30: log likelihood of observed labels = -25735.07304608\n",
      "iteration  40: log likelihood of observed labels = -25070.03447306\n",
      "iteration  50: log likelihood of observed labels = -24529.31188025\n",
      "iteration  60: log likelihood of observed labels = -24079.95349572\n",
      "iteration  70: log likelihood of observed labels = -23699.83199186\n",
      "iteration  80: log likelihood of observed labels = -23373.54108747\n",
      "iteration  90: log likelihood of observed labels = -23090.01500055\n",
      "iteration 100: log likelihood of observed labels = -22841.08995135\n",
      "iteration 200: log likelihood of observed labels = -21377.25595328\n",
      "iteration 300: log likelihood of observed labels = -20704.63995428\n",
      "iteration 400: log likelihood of observed labels = -20319.25685307\n",
      "iteration 500: log likelihood of observed labels = -20072.16321721\n",
      "iteration   0: log likelihood of observed labels = -29179.48385120\n",
      "iteration   1: log likelihood of observed labels = -29004.25177457\n",
      "iteration   2: log likelihood of observed labels = -28835.97382190\n",
      "iteration   3: log likelihood of observed labels = -28674.09410083\n",
      "iteration   4: log likelihood of observed labels = -28518.17112932\n",
      "iteration   5: log likelihood of observed labels = -28367.83774654\n",
      "iteration   6: log likelihood of observed labels = -28222.77708939\n",
      "iteration   7: log likelihood of observed labels = -28082.70799392\n",
      "iteration   8: log likelihood of observed labels = -27947.37595368\n",
      "iteration   9: log likelihood of observed labels = -27816.54738615\n",
      "iteration  10: log likelihood of observed labels = -27690.00588850\n",
      "iteration  11: log likelihood of observed labels = -27567.54970126\n",
      "iteration  12: log likelihood of observed labels = -27448.98991327\n",
      "iteration  13: log likelihood of observed labels = -27334.14912742\n",
      "iteration  14: log likelihood of observed labels = -27222.86041863\n",
      "iteration  15: log likelihood of observed labels = -27114.96648229\n",
      "iteration  20: log likelihood of observed labels = -26621.50201299\n",
      "iteration  30: log likelihood of observed labels = -25819.72803950\n",
      "iteration  40: log likelihood of observed labels = -25197.34035501\n",
      "iteration  50: log likelihood of observed labels = -24701.03698195\n",
      "iteration  60: log likelihood of observed labels = -24296.66378580\n",
      "iteration  70: log likelihood of observed labels = -23961.38842316\n",
      "iteration  80: log likelihood of observed labels = -23679.38088853\n",
      "iteration  90: log likelihood of observed labels = -23439.31824267\n",
      "iteration 100: log likelihood of observed labels = -23232.88192018\n",
      "iteration 200: log likelihood of observed labels = -22133.50726528\n",
      "iteration 300: log likelihood of observed labels = -21730.03957488\n",
      "iteration 400: log likelihood of observed labels = -21545.87572145\n",
      "iteration 500: log likelihood of observed labels = -21451.95551390\n",
      "iteration   0: log likelihood of observed labels = -29180.31606471\n",
      "iteration   1: log likelihood of observed labels = -29009.07176112\n",
      "iteration   2: log likelihood of observed labels = -28847.62378912\n",
      "iteration   3: log likelihood of observed labels = -28695.14439397\n",
      "iteration   4: log likelihood of observed labels = -28550.95060743\n",
      "iteration   5: log likelihood of observed labels = -28414.45771129\n",
      "iteration   6: log likelihood of observed labels = -28285.15124375\n"
     ]
    },
    {
     "name": "stdout",
     "output_type": "stream",
     "text": [
      "iteration   7: log likelihood of observed labels = -28162.56976044\n",
      "iteration   8: log likelihood of observed labels = -28046.29387744\n",
      "iteration   9: log likelihood of observed labels = -27935.93902900\n",
      "iteration  10: log likelihood of observed labels = -27831.15045502\n",
      "iteration  11: log likelihood of observed labels = -27731.59955260\n",
      "iteration  12: log likelihood of observed labels = -27636.98108219\n",
      "iteration  13: log likelihood of observed labels = -27547.01092670\n",
      "iteration  14: log likelihood of observed labels = -27461.42422295\n",
      "iteration  15: log likelihood of observed labels = -27379.97375625\n",
      "iteration  20: log likelihood of observed labels = -27027.18208317\n",
      "iteration  30: log likelihood of observed labels = -26527.22737267\n",
      "iteration  40: log likelihood of observed labels = -26206.59048765\n",
      "iteration  50: log likelihood of observed labels = -25995.96903148\n",
      "iteration  60: log likelihood of observed labels = -25854.95710284\n",
      "iteration  70: log likelihood of observed labels = -25759.08109950\n",
      "iteration  80: log likelihood of observed labels = -25693.05688014\n",
      "iteration  90: log likelihood of observed labels = -25647.09929349\n",
      "iteration 100: log likelihood of observed labels = -25614.81468705\n",
      "iteration 200: log likelihood of observed labels = -25536.20998919\n",
      "iteration 300: log likelihood of observed labels = -25532.57691220\n",
      "iteration 400: log likelihood of observed labels = -25532.35543765\n",
      "iteration 500: log likelihood of observed labels = -25532.33970049\n",
      "iteration   0: log likelihood of observed labels = -29271.85955115\n",
      "iteration   1: log likelihood of observed labels = -29271.71006589\n",
      "iteration   2: log likelihood of observed labels = -29271.65738833\n",
      "iteration   3: log likelihood of observed labels = -29271.61189923\n",
      "iteration   4: log likelihood of observed labels = -29271.57079975\n",
      "iteration   5: log likelihood of observed labels = -29271.53358505\n",
      "iteration   6: log likelihood of observed labels = -29271.49988440\n",
      "iteration   7: log likelihood of observed labels = -29271.46936584\n",
      "iteration   8: log likelihood of observed labels = -29271.44172890\n",
      "iteration   9: log likelihood of observed labels = -29271.41670149\n",
      "iteration  10: log likelihood of observed labels = -29271.39403722\n",
      "iteration  11: log likelihood of observed labels = -29271.37351294\n",
      "iteration  12: log likelihood of observed labels = -29271.35492661\n",
      "iteration  13: log likelihood of observed labels = -29271.33809523\n",
      "iteration  14: log likelihood of observed labels = -29271.32285309\n",
      "iteration  15: log likelihood of observed labels = -29271.30905015\n",
      "iteration  20: log likelihood of observed labels = -29271.25729150\n",
      "iteration  30: log likelihood of observed labels = -29271.20657205\n",
      "iteration  40: log likelihood of observed labels = -29271.18775997\n",
      "iteration  50: log likelihood of observed labels = -29271.18078247\n",
      "iteration  60: log likelihood of observed labels = -29271.17819447\n",
      "iteration  70: log likelihood of observed labels = -29271.17723457\n",
      "iteration  80: log likelihood of observed labels = -29271.17687853\n",
      "iteration  90: log likelihood of observed labels = -29271.17674648\n",
      "iteration 100: log likelihood of observed labels = -29271.17669750\n",
      "iteration 200: log likelihood of observed labels = -29271.17666862\n",
      "iteration 300: log likelihood of observed labels = -29271.17666862\n",
      "iteration 400: log likelihood of observed labels = -29271.17666862\n",
      "iteration 500: log likelihood of observed labels = -29271.17666862\n"
     ]
    }
   ],
   "source": [
    "coefficients_list = [logistic_regression_with_L2(feature_matrix_train, sentiment_train, initial_coefficients, \n",
    "  step_size, l2_penalty, max_iter) for l2_penalty in L2_penalty_list]"
   ]
  },
  {
   "cell_type": "code",
   "execution_count": 40,
   "metadata": {},
   "outputs": [],
   "source": [
    "valid_predictions_list = list()\n",
    "for i in range(len(coefficients_list)):\n",
    "    valid_predictions_list.append(predict_probability(feature_matrix=feature_matrix_valid,coefficients=coefficients_list[i]))"
   ]
  },
  {
   "cell_type": "code",
   "execution_count": 45,
   "metadata": {},
   "outputs": [],
   "source": [
    "coefficients_name = ['coefficients_0_penalty', 'coefficients_4_penalty', 'coefficients_10_penalty', 'coefficients_1e2_penalty', \n",
    "                     'coefficients_1e3_penalty', 'coefficients_1e5_penalty' ]\n",
    "coefficients_list_dict = dict(zip(coefficients_name,coefficients_list))"
   ]
  },
  {
   "cell_type": "code",
   "execution_count": 63,
   "metadata": {},
   "outputs": [],
   "source": [
    "zero_pen_coeff = coefficients_list_dict['coefficients_0_penalty'][1:]"
   ]
  },
  {
   "cell_type": "code",
   "execution_count": 67,
   "metadata": {},
   "outputs": [],
   "source": [
    "zero_pen_coeff = list(zero_pen_coeff)"
   ]
  },
  {
   "cell_type": "code",
   "execution_count": 69,
   "metadata": {},
   "outputs": [],
   "source": [
    "word_coefficient_0_penalty_tuples = [(word, coefficient) for word, coefficient in zip(imp_words, zero_pen_coeff)]\n",
    "word_coefficient_0_penalty_tuples = sorted(word_coefficient_0_penalty_tuples, key=lambda x:x[1], reverse=True)"
   ]
  },
  {
   "cell_type": "code",
   "execution_count": 73,
   "metadata": {},
   "outputs": [],
   "source": [
    "postive_words = word_coefficient_0_penalty_tuples[:5]"
   ]
  },
  {
   "cell_type": "code",
   "execution_count": 74,
   "metadata": {},
   "outputs": [],
   "source": [
    "negative_words = word_coefficient_0_penalty_tuples[-5:]"
   ]
  },
  {
   "cell_type": "code",
   "execution_count": 83,
   "metadata": {},
   "outputs": [],
   "source": [
    "new_dict = dict(coefficients_list_dict)"
   ]
  },
  {
   "cell_type": "code",
   "execution_count": 115,
   "metadata": {},
   "outputs": [
    {
     "data": {
      "image/png": "[encoded data removed]",
      "text/plain": [
       "<matplotlib.figure.Figure at 0x2588b1a9fd0>"
      ]
     },
     "metadata": {},
     "output_type": "display_data"
    }
   ],
   "source": [
    "import matplotlib.pyplot as plt\n",
    "%matplotlib inline\n",
    "plt.rcParams['figure.figsize'] = 10, 6\n",
    "\n",
    "def make_coefficient_plot(table, positive_words, negative_words, l2_penalty_list):\n",
    "    cmap_positive = plt.get_cmap('Reds')\n",
    "    cmap_negative = plt.get_cmap('Blues')\n",
    "    \n",
    "    xx = l2_penalty_list\n",
    "    plt.plot(xx, [0.]*len(xx), '--', lw=1, color='k')\n",
    "    \n",
    "    table_positive_words = table[table['word'].isin(positive_words)]\n",
    "    table_negative_words = table[table['word'].isin(negative_words)]\n",
    "    del table_positive_words['word']\n",
    "    del table_negative_words['word']\n",
    "    \n",
    "    for i in range(len(positive_words)):\n",
    "        color = cmap_positive(0.8*((i+1)/(len(positive_words)*1.2)+0.15))\n",
    "        plt.plot(xx, table_positive_words[i:i+1].as_matrix().flatten(),\n",
    "                 '-', label=positive_words[i], linewidth=4.0, color=color)\n",
    "        \n",
    "    for i in range(len(negative_words)):\n",
    "        color = cmap_negative(0.8*((i+1)/(len(negative_words)*1.2)+0.15))\n",
    "        plt.plot(xx, table_negative_words[i:i+1].as_matrix().flatten(),\n",
    "                 '-', label=negative_words[i], linewidth=4.0, color=color)\n",
    "        \n",
    "    plt.legend(loc='best', ncol=3, prop={'size':16}, columnspacing=0.5)\n",
    "    plt.axis([1, 1e5, -1, 2])\n",
    "    plt.title('Coefficient path')\n",
    "    plt.xlabel('L2 penalty ($\\lambda$)')\n",
    "    plt.ylabel('Coefficient value')\n",
    "    plt.xscale('log')\n",
    "    plt.rcParams.update({'font.size': 18})\n",
    "    plt.tight_layout()\n",
    "\n",
    "make_coefficient_plot(word_penality_coef, postive_words, negative_words, l2_penalty_list=[0, 4, 10, 1e2, 1e3, 1e5])"
   ]
  },
  {
   "cell_type": "code",
   "execution_count": 77,
   "metadata": {},
   "outputs": [],
   "source": [
    "postive_words = [x for x,y in postive_words]"
   ]
  },
  {
   "cell_type": "code",
   "execution_count": 79,
   "metadata": {},
   "outputs": [],
   "source": [
    "negative_words = [x for x,y in negative_words]"
   ]
  },
  {
   "cell_type": "code",
   "execution_count": 85,
   "metadata": {},
   "outputs": [],
   "source": [
    "new_dict.update({'word': ['(intercept)'] + imp_words})"
   ]
  },
  {
   "cell_type": "code",
   "execution_count": 87,
   "metadata": {},
   "outputs": [],
   "source": [
    "word_penality_coef = pd.DataFrame(new_dict)"
   ]
  },
  {
   "cell_type": "code",
   "execution_count": 114,
   "metadata": {},
   "outputs": [],
   "source": [
    "word_penality_coef = word_penality_coef[new_columns]"
   ]
  },
  {
   "cell_type": "code",
   "execution_count": 106,
   "metadata": {},
   "outputs": [],
   "source": [
    "new_columns = word_penality_coef.columns.tolist()"
   ]
  },
  {
   "cell_type": "code",
   "execution_count": 97,
   "metadata": {},
   "outputs": [],
   "source": [
    "new_columns = new_columns[-1:] + new_columns[:-1]"
   ]
  },
  {
   "cell_type": "code",
   "execution_count": 99,
   "metadata": {},
   "outputs": [],
   "source": [
    "word_penality_coef = word_penality_coef[new_columns]"
   ]
  },
  {
   "cell_type": "code",
   "execution_count": 112,
   "metadata": {},
   "outputs": [],
   "source": [
    "new_columns = new_columns[0:2]+new_columns[-1:]+new_columns[2:-1]"
   ]
  },
  {
   "cell_type": "code",
   "execution_count": 116,
   "metadata": {},
   "outputs": [],
   "source": [
    "def model_acc(feat_matrix,sentiment,coeffs):\n",
    "    score = np.dot(feat_matrix,coeffs)\n",
    "    predictions = np.array([1 if (sc>0) else -1 for sc in score])\n",
    "    correct = np.sum(predictions == sentiment)\n",
    "    all_data = len(feat_matrix)\n",
    "    return correct / all_data"
   ]
  },
  {
   "cell_type": "code",
   "execution_count": 122,
   "metadata": {},
   "outputs": [
    {
     "data": {
      "text/plain": [
       "0.7851561577866434"
      ]
     },
     "execution_count": 122,
     "metadata": {},
     "output_type": "execute_result"
    }
   ],
   "source": [
    "model_acc(feature_matrix_train,sentiment_train,coefficients_list_dict['coefficients_0_penalty'])"
   ]
  },
  {
   "cell_type": "code",
   "execution_count": 120,
   "metadata": {},
   "outputs": [
    {
     "data": {
      "text/plain": [
       "{'coefficients_0_penalty': array([-6.37421352e-02,  7.40730059e-02,  1.27525058e-02,  8.01624990e-01,\n",
       "         1.05855398e+00, -1.04152191e-04, -2.87021444e-01, -3.38447399e-03,\n",
       "         9.84558820e-01,  5.24419456e-01, -8.69675407e-02,  2.08912434e-01,\n",
       "         4.53866487e-01, -1.96835211e-01,  1.58163325e-01, -1.79058177e-02,\n",
       "         1.28396325e-01, -7.24293854e-02, -1.51817046e-01, -2.63330304e-01,\n",
       "         1.56507228e-01,  2.63417760e-01, -1.32474753e-02,  1.05248405e+00,\n",
       "        -3.75326583e-02, -3.29713873e-04, -6.79948371e-02,  1.93363694e-01,\n",
       "         1.88508247e-01, -2.68954361e-01,  9.62841996e-02,  3.58309842e-01,\n",
       "        -4.63096879e-02, -3.68678195e-01,  8.35693208e-01,  4.29393687e-01,\n",
       "        -6.53274724e-03, -1.18953292e-01,  4.52597544e-02, -1.05433750e-01,\n",
       "        -1.40179533e-01,  1.15329513e-01,  4.70226839e-02,  2.77177536e-02,\n",
       "        -1.93377062e-01,  2.65797426e-01,  7.83957751e-02, -1.76600523e-01,\n",
       "         3.61782536e-01,  1.02765639e-01, -2.71592217e-01,  2.60319903e-01,\n",
       "         3.39154885e-01, -1.07684772e-01, -5.24146184e-02,  1.65204564e-01,\n",
       "         1.81497208e-01, -1.53387177e-01,  2.26303981e-01,  6.92301007e-02,\n",
       "         2.54329532e-02, -3.91547449e-02,  1.58058671e-01,  1.25891483e-01,\n",
       "         1.08457010e-01,  1.00928023e-01,  1.43336093e-01, -3.13020363e-01,\n",
       "        -8.35172021e-02, -1.67898466e-01, -2.27303866e-01,  2.68533786e-01,\n",
       "         1.74278630e-01, -5.37553904e-03,  1.53575474e-01,  8.96524839e-02,\n",
       "         5.35033890e-01,  5.78548994e-02, -5.26716290e-01, -8.25303707e-02,\n",
       "        -1.05571061e-01,  2.46090901e-01,  7.11403316e-03,  5.57395202e-01,\n",
       "         3.33591876e-01, -5.85048844e-02,  1.35808699e-01,  1.99408751e-01,\n",
       "         3.35757998e-01,  2.06879131e-01,  1.05514065e-01,  4.87652253e-01,\n",
       "        -5.28907387e-02,  1.09786170e-01, -1.71934925e-01,  1.79602396e-01,\n",
       "         8.51886084e-02, -7.68793135e-01, -1.74412073e-01, -2.90041955e-01,\n",
       "        -4.77856463e-01, -2.10858871e-01, -3.18734744e-01, -3.08369907e-01,\n",
       "        -2.86797468e-01, -2.24582972e-01, -9.55436628e-01, -2.50485721e-01,\n",
       "        -2.90003085e-01, -1.89419809e-01,  7.03044813e-02, -2.70696642e-02,\n",
       "        -2.22761522e-01, -6.17809178e-01, -7.42084955e-01, -5.18442510e-02,\n",
       "        -6.95570054e-02, -8.89271680e-02, -4.87549593e-02, -6.74038331e-02,\n",
       "        -2.82426839e-04, -7.42798962e-02, -2.00502000e-01, -2.94932582e-01,\n",
       "         4.88123366e-02, -1.45869307e-01, -8.05551175e-02,  7.12543440e-04,\n",
       "        -5.77628031e-02,  1.17042522e-02, -2.32784371e-01, -1.72200452e-01,\n",
       "        -2.20688410e-01, -1.01614979e-01, -4.58912148e-01, -2.08373670e-01,\n",
       "        -1.47643433e-02, -1.27594388e-01, -7.92551863e-02, -8.35155924e-02,\n",
       "        -3.48678293e-01, -1.35531249e-01,  5.37886137e-02,  6.99245771e-02,\n",
       "        -3.42352976e-02,  1.06787833e-01, -2.58925182e-01,  1.51917362e-02,\n",
       "        -1.50964736e-01, -5.31749902e-02, -7.85018793e-02, -8.21371125e-02,\n",
       "        -6.00293445e-02,  7.16430998e-02, -7.23661931e-02,  2.51956776e-02,\n",
       "        -2.43576080e-01, -2.49830980e-01,  2.75533421e-02, -2.41077002e-01,\n",
       "        -3.58632136e-01, -1.08882112e-01,  1.43849207e-01, -1.44650821e-02,\n",
       "        -1.53174140e-01, -1.86801451e-01, -9.94686989e-02, -2.76548135e-01,\n",
       "        -3.20087794e-02, -5.72707045e-01, -2.24076238e-01, -4.64452683e-02,\n",
       "        -5.55195064e-01, -9.02294478e-03, -3.00562697e-01, -1.93122735e-01,\n",
       "        -4.65369862e-01, -1.10471674e-01, -9.80488057e-02, -1.36801003e-01,\n",
       "        -1.06836325e-01, -3.20363242e-01,  3.32562653e-03, -1.96121253e-01,\n",
       "         5.83078123e-02, -1.96906060e-01, -2.77845406e-01,  1.73191268e-01,\n",
       "        -1.32196544e-01,  5.24938080e-02,  4.96002372e-03, -1.66745387e-01,\n",
       "        -3.19156148e-02, -2.28851609e-01]),\n",
       " 'coefficients_4_penalty': array([-6.31430877e-02,  7.39938541e-02,  1.24949704e-02,  7.96896933e-01,\n",
       "         1.05085568e+00,  1.62857656e-04, -2.86027203e-01, -3.44208577e-03,\n",
       "         9.77600150e-01,  5.21384726e-01, -8.61247653e-02,  2.07749392e-01,\n",
       "         4.50968721e-01, -1.96099515e-01,  1.57246229e-01, -1.77448946e-02,\n",
       "         1.27760986e-01, -7.22814302e-02, -1.50917406e-01, -2.62327720e-01,\n",
       "         1.55269841e-01,  2.61775278e-01, -1.32950464e-02,  1.04390291e+00,\n",
       "        -3.69883247e-02, -3.22661008e-04, -6.73149917e-02,  1.91903614e-01,\n",
       "         1.87071094e-01, -2.67418887e-01,  9.54309266e-02,  3.55582407e-01,\n",
       "        -4.64412460e-02, -3.66362009e-01,  8.28554675e-01,  4.26024381e-01,\n",
       "        -6.36782154e-03, -1.18238176e-01,  4.48730132e-02, -1.04844852e-01,\n",
       "        -1.39061013e-01,  1.14586101e-01,  4.67135155e-02,  2.76203128e-02,\n",
       "        -1.91499204e-01,  2.63599528e-01,  7.76362111e-02, -1.75623150e-01,\n",
       "         3.59052217e-01,  1.01913903e-01, -2.69735081e-01,  2.58216721e-01,\n",
       "         3.36368646e-01, -1.06905750e-01, -5.21574333e-02,  1.63825848e-01,\n",
       "         1.80217781e-01, -1.52084696e-01,  2.24374801e-01,  6.88557436e-02,\n",
       "         2.53693769e-02, -3.89140975e-02,  1.56826011e-01,  1.24942777e-01,\n",
       "         1.07540846e-01,  1.00353348e-01,  1.42448664e-01, -3.10684342e-01,\n",
       "        -8.29951797e-02, -1.66739672e-01, -2.25761125e-01,  2.66143741e-01,\n",
       "         1.72849565e-01, -5.53556443e-03,  1.52235317e-01,  8.90396238e-02,\n",
       "         5.30264660e-01,  5.73864355e-02, -5.22911840e-01, -8.18865319e-02,\n",
       "        -1.04817773e-01,  2.43969024e-01,  6.97527166e-03,  5.52483888e-01,\n",
       "         3.30806655e-01, -5.78014640e-02,  1.34568754e-01,  1.97789196e-01,\n",
       "         3.32913985e-01,  2.05085532e-01,  1.04553411e-01,  4.83428770e-01,\n",
       "        -5.25594194e-02,  1.08809099e-01, -1.70663560e-01,  1.78204521e-01,\n",
       "         8.44005074e-02, -7.62733976e-01, -1.73449794e-01, -2.87930774e-01,\n",
       "        -4.73951196e-01, -2.09306139e-01, -3.16336046e-01, -3.05941163e-01,\n",
       "        -2.84577847e-01, -2.22500539e-01, -9.46979918e-01, -2.48603029e-01,\n",
       "        -2.87646422e-01, -1.87958786e-01,  6.94503535e-02, -2.70140795e-02,\n",
       "        -2.21059152e-01, -6.12474509e-01, -7.35502401e-01, -5.14038248e-02,\n",
       "        -6.90815128e-02, -8.83588501e-02, -4.83883196e-02, -6.69634833e-02,\n",
       "        -4.74031926e-04, -7.38587417e-02, -1.98958942e-01, -2.92502392e-01,\n",
       "         4.82483623e-02, -1.44686121e-01, -7.98242581e-02,  6.21276426e-04,\n",
       "        -5.72045760e-02,  1.14471463e-02, -2.30802383e-01, -1.70825668e-01,\n",
       "        -2.18850831e-01, -1.00881596e-01, -4.54908922e-01, -2.06631715e-01,\n",
       "        -1.47132466e-02, -1.26698569e-01, -7.86347898e-02, -8.30212285e-02,\n",
       "        -3.45646683e-01, -1.34479484e-01,  5.31366756e-02,  6.92686787e-02,\n",
       "        -3.38462643e-02,  1.05889130e-01, -2.56554131e-01,  1.50924371e-02,\n",
       "        -1.49738313e-01, -5.27765541e-02, -7.78740416e-02, -8.13384027e-02,\n",
       "        -5.96030953e-02,  7.10055574e-02, -7.15917811e-02,  2.48487456e-02,\n",
       "        -2.41524998e-01, -2.47731938e-01,  2.73849338e-02, -2.39031557e-01,\n",
       "        -3.55413985e-01, -1.07935806e-01,  1.42569345e-01, -1.45152094e-02,\n",
       "        -1.51852477e-01, -1.85241508e-01, -9.86915323e-02, -2.74151180e-01,\n",
       "        -3.18035427e-02, -5.67518485e-01, -2.22014635e-01, -4.61991328e-02,\n",
       "        -5.50209247e-01, -8.76414318e-03, -2.97919502e-01, -1.91418441e-01,\n",
       "        -4.61129883e-01, -1.09559470e-01, -9.73307652e-02, -1.35651683e-01,\n",
       "        -1.06002928e-01, -3.17559220e-01,  3.28165737e-03, -1.94516073e-01,\n",
       "         5.79050737e-02, -1.95273020e-01, -2.75460904e-01,  1.71639886e-01,\n",
       "        -1.31082714e-01,  5.21296657e-02,  4.90724915e-03, -1.65366898e-01,\n",
       "        -3.16207575e-02, -2.26792742e-01]),\n",
       " 'coefficients_10_penalty': array([-6.22559438e-02,  7.38773535e-02,  1.21152530e-02,  7.89935147e-01,\n",
       "         1.03952852e+00,  5.55710976e-04, -2.84564036e-01, -3.52729445e-03,\n",
       "         9.67361837e-01,  5.16917392e-01, -8.48834465e-02,  2.06037403e-01,\n",
       "         4.46700474e-01, -1.95016737e-01,  1.55899330e-01, -1.75077738e-02,\n",
       "         1.26827854e-01, -7.20652934e-02, -1.49593860e-01, -2.60854452e-01,\n",
       "         1.53444915e-01,  2.59357420e-01, -1.33658541e-02,  1.03126535e+00,\n",
       "        -3.61864369e-02, -3.11890585e-04, -6.63136983e-02,  1.89754041e-01,\n",
       "         1.84955422e-01, -2.65160577e-01,  9.41740268e-02,  3.51565417e-01,\n",
       "        -4.66365487e-02, -3.62953957e-01,  8.18037838e-01,  4.21060657e-01,\n",
       "        -6.12537283e-03, -1.17186310e-01,  4.43029503e-02, -1.03979087e-01,\n",
       "        -1.37413411e-01,  1.13492622e-01,  4.62581689e-02,  2.74772612e-02,\n",
       "        -1.88732925e-01,  2.60361086e-01,  7.65174990e-02, -1.74186933e-01,\n",
       "         3.55029847e-01,  1.00658077e-01, -2.67000404e-01,  2.55119794e-01,\n",
       "         3.32262128e-01, -1.05759069e-01, -5.17778409e-02,  1.61795577e-01,\n",
       "         1.78333876e-01, -1.50165308e-01,  2.21533182e-01,  6.83047121e-02,\n",
       "         2.52769151e-02, -3.85606936e-02,  1.55011429e-01,  1.23547158e-01,\n",
       "         1.06191625e-01,  9.95069199e-02,  1.41143050e-01, -3.07245276e-01,\n",
       "        -8.22280909e-02, -1.65034243e-01, -2.23488387e-01,  2.62622062e-01,\n",
       "         1.70744024e-01, -5.77322403e-03,  1.50260580e-01,  8.81347548e-02,\n",
       "         5.23235996e-01,  5.66967216e-02, -5.17311910e-01, -8.09388860e-02,\n",
       "        -1.03708731e-01,  2.40842539e-01,  6.77095557e-03,  5.45245445e-01,\n",
       "         3.26703653e-01, -5.67657785e-02,  1.32742117e-01,  1.95403181e-01,\n",
       "         3.28723606e-01,  2.02443428e-01,  1.03138752e-01,  4.77204591e-01,\n",
       "        -5.20706979e-02,  1.07369430e-01, -1.68791557e-01,  1.76146803e-01,\n",
       "         8.32386429e-02, -7.53818294e-01, -1.72034267e-01, -2.84823925e-01,\n",
       "        -4.68199828e-01, -2.07019538e-01, -3.12805529e-01, -3.02363484e-01,\n",
       "        -2.81311299e-01, -2.19430360e-01, -9.34518420e-01, -2.45831458e-01,\n",
       "        -2.84175465e-01, -1.85807617e-01,  6.81923595e-02, -2.69316080e-02,\n",
       "        -2.18552217e-01, -6.04620252e-01, -7.25806567e-01, -5.07551156e-02,\n",
       "        -6.83806368e-02, -8.75220747e-02, -4.78483608e-02, -6.63162072e-02,\n",
       "        -7.56310496e-04, -7.32388869e-02, -1.96686883e-01, -2.88922668e-01,\n",
       "         4.74172839e-02, -1.42943838e-01, -7.87490161e-02,  4.87165897e-04,\n",
       "        -5.63827596e-02,  1.10674355e-02, -2.27882645e-01, -1.68800108e-01,\n",
       "        -2.16142140e-01, -9.98002053e-02, -4.49009973e-01, -2.04065778e-01,\n",
       "        -1.46371948e-02, -1.25379209e-01, -7.77218414e-02, -8.22929162e-02,\n",
       "        -3.41179882e-01, -1.32930705e-01,  5.21756692e-02,  6.83018519e-02,\n",
       "        -3.32727417e-02,  1.04564449e-01, -2.53060561e-01,  1.49472717e-02,\n",
       "        -1.47932011e-01, -5.21894330e-02, -7.69497406e-02, -8.01613684e-02,\n",
       "        -5.89755479e-02,  7.00661243e-02, -7.04508722e-02,  2.43362039e-02,\n",
       "        -2.38504355e-01, -2.44641855e-01,  2.71367512e-02, -2.36018397e-01,\n",
       "        -3.50671350e-01, -1.06542067e-01,  1.40683416e-01, -1.45902971e-02,\n",
       "        -1.49905077e-01, -1.82942724e-01, -9.75469020e-02, -2.70621152e-01,\n",
       "        -3.15015490e-02, -5.59869849e-01, -2.18976149e-01, -4.58383751e-02,\n",
       "        -5.42860583e-01, -8.38209215e-03, -2.94023637e-01, -1.88906864e-01,\n",
       "        -4.54879214e-01, -1.08214743e-01, -9.62736752e-02, -1.33958104e-01,\n",
       "        -1.04776441e-01, -3.13427487e-01,  3.21694656e-03, -1.92152597e-01,\n",
       "         5.73118444e-02, -1.92866423e-01, -2.71946878e-01,  1.69352368e-01,\n",
       "        -1.29441106e-01,  5.15936905e-02,  4.82954262e-03, -1.63337871e-01,\n",
       "        -3.11859321e-02, -2.23758089e-01]),\n",
       " 'coefficients_1e2_penalty': array([-5.04383652e-02,  7.23603602e-02,  7.24728332e-03,  7.01425074e-01,\n",
       "         8.96644133e-01,  5.48103268e-03, -2.65992746e-01, -4.63499283e-03,\n",
       "         8.38244833e-01,  4.60234578e-01, -6.91088693e-02,  1.84332278e-01,\n",
       "         3.92304122e-01, -1.81251323e-01,  1.39153014e-01, -1.44806834e-02,\n",
       "         1.15192322e-01, -6.94801855e-02, -1.32883757e-01, -2.42391477e-01,\n",
       "         1.29972389e-01,  2.28684997e-01, -1.43256168e-02,  8.70793975e-01,\n",
       "        -2.59904193e-02, -1.26966812e-04, -5.35936167e-02,  1.62530931e-01,\n",
       "         1.58163104e-01, -2.36730269e-01,  7.81913951e-02,  3.00471458e-01,\n",
       "        -4.92051701e-02, -3.19904507e-01,  6.84142945e-01,  3.57813413e-01,\n",
       "        -3.09948919e-03, -1.03934663e-01,  3.70096265e-02, -9.31058652e-02,\n",
       "        -1.16446388e-01,  9.97252061e-02,  4.04727436e-02,  2.56916791e-02,\n",
       "        -1.53572104e-01,  2.19067085e-01,  6.23201130e-02, -1.56239175e-01,\n",
       "         3.03757406e-01,  8.45529521e-02, -2.32262269e-01,  2.15833499e-01,\n",
       "         2.79767806e-01, -9.12484675e-02, -4.68433169e-02,  1.36041926e-01,\n",
       "         1.54415421e-01, -1.25652125e-01,  1.85408376e-01,  6.13125780e-02,\n",
       "         2.42029702e-02, -3.41744960e-02,  1.32039873e-01,  1.05987110e-01,\n",
       "         8.90637226e-02,  8.87050861e-02,  1.24662995e-01, -2.63672453e-01,\n",
       "        -7.26448373e-02, -1.43477730e-01, -1.94499224e-01,  2.17730267e-01,\n",
       "         1.43902813e-01, -8.97962161e-03,  1.25077953e-01,  7.63776232e-02,\n",
       "         4.33526404e-01,  4.79507572e-02, -4.46447430e-01, -6.89621422e-02,\n",
       "        -8.96432353e-02,  2.00990136e-01,  4.19007444e-03,  4.52800036e-01,\n",
       "         2.74494244e-01, -4.36656745e-02,  1.09510418e-01,  1.65008615e-01,\n",
       "         2.75314331e-01,  1.68821489e-01,  8.52060481e-02,  3.97765496e-01,\n",
       "        -4.57701341e-02,  8.90179390e-02, -1.45037946e-01,  1.50117398e-01,\n",
       "         6.83627438e-02, -6.41405752e-01, -1.54191726e-01, -2.45584473e-01,\n",
       "        -3.95172158e-01, -1.77972079e-01, -2.68168171e-01, -2.56820424e-01,\n",
       "        -2.40061248e-01, -1.80126983e-01, -7.75625137e-01, -2.10733980e-01,\n",
       "        -2.40069934e-01, -1.58534929e-01,  5.22227506e-02, -2.57961645e-02,\n",
       "        -1.86712181e-01, -5.05188758e-01, -6.02646356e-01, -4.25131076e-02,\n",
       "        -5.94008787e-02, -7.68892886e-02, -4.09927407e-02, -5.82164231e-02,\n",
       "        -4.32203499e-03, -6.53831567e-02, -1.67869777e-01, -2.43398835e-01,\n",
       "         3.68342135e-02, -1.20848073e-01, -6.52152959e-02, -1.16911598e-03,\n",
       "        -4.59928064e-02,  6.14509586e-03, -1.90738771e-01, -1.42972268e-01,\n",
       "        -1.81490373e-01, -8.59049063e-02, -3.73793822e-01, -1.71434382e-01,\n",
       "        -1.35748898e-02, -1.08591976e-01, -6.62084061e-02, -7.30039144e-02,\n",
       "        -2.84276955e-01, -1.13270433e-01,  3.99200848e-02,  5.59358988e-02,\n",
       "        -2.59389454e-02,  8.76142002e-02, -2.08564177e-01,  1.32213774e-02,\n",
       "        -1.24984526e-01, -4.46996167e-02, -6.52515595e-02, -6.51525214e-02,\n",
       "        -5.10116352e-02,  5.80882500e-02, -5.59464245e-02,  1.76707354e-02,\n",
       "        -2.00169668e-01, -2.05553617e-01,  2.39587189e-02, -1.97689652e-01,\n",
       "        -2.90155060e-01, -8.88444173e-02,  1.16633504e-01, -1.56549027e-02,\n",
       "        -1.25084095e-01, -1.53602422e-01, -8.30009183e-02, -2.25839353e-01,\n",
       "        -2.76852196e-02, -4.62055679e-01, -1.80191850e-01, -4.14218795e-02,\n",
       "        -4.48988884e-01, -3.46738156e-03, -2.44246693e-01, -1.56862591e-01,\n",
       "        -3.74889954e-01, -9.09920134e-02, -8.28745625e-02, -1.12359877e-01,\n",
       "        -8.92939781e-02, -2.60763609e-01,  2.40431538e-03, -1.62209652e-01,\n",
       "         4.97532540e-02, -1.62142680e-01, -2.27098251e-01,  1.40022127e-01,\n",
       "        -1.08471472e-01,  4.48053966e-02,  3.84750237e-03, -1.37692839e-01,\n",
       "        -2.56042236e-02, -1.84986005e-01]),\n",
       " 'coefficients_1e3_penalty': array([ 5.38675327e-05,  5.97516888e-02, -8.76091762e-03,  3.76011714e-01,\n",
       "         4.18353644e-01,  1.73264874e-02, -1.88662422e-01, -7.04307584e-03,\n",
       "         4.01903971e-01,  2.51220654e-01, -1.77178985e-02,  1.05073799e-01,\n",
       "         1.94926430e-01, -1.22727802e-01,  8.09182636e-02, -4.44770962e-03,\n",
       "         7.04113146e-02, -5.75809437e-02, -7.24305965e-02, -1.67961995e-01,\n",
       "         4.78792832e-02,  1.17157934e-01, -1.52194564e-02,  3.45870257e-01,\n",
       "         5.91199240e-03,  1.52944663e-03, -1.30831687e-02,  7.27191543e-02,\n",
       "         6.84909137e-02, -1.34670652e-01,  2.64156479e-02,  1.25288994e-01,\n",
       "        -4.82698055e-02, -1.67569395e-01,  2.50613843e-01,  1.44893799e-01,\n",
       "         5.26698631e-03, -5.67165934e-02,  1.25259482e-02, -5.31339274e-02,\n",
       "        -4.63211310e-02,  5.16556042e-02,  2.09546256e-02,  1.75024097e-02,\n",
       "        -4.40223601e-02,  8.18383735e-02,  1.79385447e-02, -9.22658119e-02,\n",
       "         1.28586607e-01,  3.01673667e-02, -1.11382984e-01,  8.61212730e-02,\n",
       "         1.04500310e-01, -4.20950574e-02, -2.67318551e-02,  5.28060695e-02,\n",
       "         7.16711652e-02, -4.35485522e-02,  6.81250946e-02,  3.45539849e-02,\n",
       "         1.83999376e-02, -1.98005367e-02,  5.56403815e-02,  4.89196033e-02,\n",
       "         3.29762911e-02,  4.68708858e-02,  6.61370124e-02, -1.17518530e-01,\n",
       "        -3.93637395e-02, -7.03258018e-02, -9.19375154e-02,  7.28155866e-02,\n",
       "         5.50596149e-02, -1.75723898e-02,  4.27330972e-02,  3.30805589e-02,\n",
       "         1.45590597e-01,  1.82751700e-02, -2.07047098e-01, -3.00993504e-02,\n",
       "        -4.15970837e-02,  7.17742011e-02, -2.63088714e-03,  1.54087402e-01,\n",
       "         1.04823977e-01, -4.84575215e-03,  3.58324669e-02,  6.43533229e-02,\n",
       "         1.00845016e-01,  5.84428334e-02,  2.90350209e-02,  1.41241336e-01,\n",
       "        -2.26503297e-02,  2.93741216e-02, -6.49704647e-02,  6.50767240e-02,\n",
       "         1.99730598e-02, -2.75883374e-01, -9.08812774e-02, -1.14166253e-01,\n",
       "        -1.57221325e-01, -7.95352944e-02, -1.19452506e-01, -1.03991897e-01,\n",
       "        -1.04103129e-01, -5.50954556e-02, -2.66095182e-01, -9.39234061e-02,\n",
       "        -9.52226164e-02, -6.84899717e-02,  2.41397640e-03, -1.83862819e-02,\n",
       "        -7.91921013e-02, -1.90630653e-01, -2.15198524e-01, -1.61294487e-02,\n",
       "        -2.76625499e-02, -3.81682189e-02, -1.85303300e-02, -3.09823676e-02,\n",
       "        -1.19548756e-02, -3.58956885e-02, -7.23350343e-02, -9.53173008e-02,\n",
       "         5.14619133e-03, -4.92203863e-02, -2.22264357e-02, -4.43846373e-03,\n",
       "        -1.43924681e-02, -8.72527609e-03, -7.12574496e-02, -5.64112084e-02,\n",
       "        -6.71502121e-02, -3.68923659e-02, -1.31506110e-01, -6.58020140e-02,\n",
       "        -8.10470724e-03, -4.99465306e-02, -2.92545978e-02, -4.01251484e-02,\n",
       "        -1.01955117e-01, -4.75431130e-02,  4.62938064e-03,  1.58004964e-02,\n",
       "        -3.32509847e-03,  3.07376247e-02, -6.82658410e-02,  8.28190778e-03,\n",
       "        -5.02875492e-02, -2.00164099e-02, -2.75065081e-02, -1.84175590e-02,\n",
       "        -2.31764262e-02,  1.93756939e-02, -1.21083848e-02, -3.15471912e-03,\n",
       "        -7.71703408e-02, -8.11984806e-02,  1.22679848e-02, -7.44368464e-02,\n",
       "        -9.67805932e-02, -3.22815304e-02,  3.91107452e-02, -1.65869930e-02,\n",
       "        -4.50840855e-02, -5.72839577e-02, -3.47967994e-02, -8.48975335e-02,\n",
       "        -1.41848480e-02, -1.50020947e-01, -5.81485361e-02, -2.55661566e-02,\n",
       "        -1.48726160e-01,  8.75744356e-03, -8.37088981e-02, -5.41247547e-02,\n",
       "        -1.18468545e-01, -3.29857115e-02, -3.75939249e-02, -4.22595262e-02,\n",
       "        -3.94172614e-02, -9.23338035e-02,  2.35913500e-04, -6.65676832e-02,\n",
       "         2.28754794e-02, -6.11711832e-02, -8.17751834e-02,  4.43735935e-02,\n",
       "        -4.03314722e-02,  2.10260054e-02,  1.08386387e-03, -5.47775621e-02,\n",
       "        -7.36059624e-03, -6.11382566e-02]),\n",
       " 'coefficients_1e5_penalty': array([ 1.13617512e-02,  1.78414922e-03, -1.82685568e-03,  8.94956050e-03,\n",
       "         9.04173730e-03,  4.17863935e-04, -8.12702710e-03, -8.26650270e-04,\n",
       "         8.80768121e-03,  5.94051364e-03,  6.10986961e-04,  2.74137990e-03,\n",
       "         3.94450215e-03, -4.57833191e-03,  1.92907842e-03, -3.39680388e-04,\n",
       "         1.55233590e-03, -2.80536667e-03, -1.98539024e-03, -6.21089640e-03,\n",
       "         2.65864712e-04,  2.40085283e-03, -8.38536003e-04,  6.14988256e-03,\n",
       "         1.32610263e-03, -9.65345825e-05, -1.57230590e-04,  1.76497917e-03,\n",
       "         9.76315607e-04, -3.98820033e-03,  2.63040874e-05,  1.83345703e-03,\n",
       "        -2.00384352e-03, -4.36546768e-03,  3.98880259e-03,  2.41483892e-03,\n",
       "         3.03468385e-04, -1.68593800e-03, -1.40984298e-04, -1.59974833e-03,\n",
       "        -8.15835862e-04,  1.02114659e-03,  4.74241676e-04,  2.91281993e-04,\n",
       "        -3.99575485e-04,  1.07670603e-03, -1.21138052e-04, -2.95940835e-03,\n",
       "         2.33141193e-03,  1.67747935e-04, -2.60153630e-03,  1.16255094e-03,\n",
       "         1.50856533e-03, -1.04071725e-03, -8.77347644e-04,  7.81186176e-04,\n",
       "         1.37629678e-03, -5.44287522e-04,  8.57599296e-04,  7.75677769e-04,\n",
       "         4.65056289e-04, -7.99090415e-04,  8.25692362e-04,  1.05262629e-03,\n",
       "         2.29956620e-04,  7.92756034e-04,  1.53710960e-03, -2.62256548e-03,\n",
       "        -1.09944282e-03, -1.85977968e-03, -2.14282399e-03,  7.96489227e-04,\n",
       "         7.55808790e-04, -9.41321102e-04,  3.13468854e-04,  6.49467037e-04,\n",
       "         1.97367979e-03, -7.56049911e-05, -4.78125744e-03, -7.97925875e-04,\n",
       "        -1.06913511e-03,  9.89672061e-04, -2.68878264e-04,  2.15910146e-03,\n",
       "         1.79697628e-03,  2.76919305e-04,  2.45813903e-04,  1.03990890e-03,\n",
       "         1.50990668e-03,  3.77691466e-04,  2.62564816e-04,  2.30871825e-03,\n",
       "        -7.54673954e-04,  1.62940629e-04, -1.58306028e-03,  1.22526305e-03,\n",
       "        -7.54290639e-05, -5.48721046e-03, -3.43327421e-03, -2.66393089e-03,\n",
       "        -3.07862032e-03, -1.83664258e-03, -2.45742505e-03, -1.90218181e-03,\n",
       "        -2.15413774e-03, -7.60427928e-04, -4.01339658e-03, -2.15320555e-03,\n",
       "        -1.82073829e-03, -1.60422701e-03, -1.38746567e-03, -8.05994228e-04,\n",
       "        -1.42916441e-03, -3.34490078e-03, -3.72969092e-03, -3.12065101e-04,\n",
       "        -7.50942472e-04, -8.78297995e-04, -6.07805618e-04, -9.69057824e-04,\n",
       "        -6.37053240e-04, -9.36769695e-04, -1.61035059e-03, -1.83795528e-03,\n",
       "        -2.86901447e-04, -1.09018823e-03, -2.09856819e-04, -3.12703440e-04,\n",
       "        -2.70118487e-04, -7.21720918e-04, -1.31148152e-03, -1.03245653e-03,\n",
       "        -1.22210390e-03, -8.33725576e-04, -2.06559721e-03, -1.32630705e-03,\n",
       "        -3.70449364e-04, -1.06928121e-03, -7.24120782e-04, -1.38656714e-03,\n",
       "        -1.75921259e-03, -9.82478634e-04, -1.72783185e-04, -3.14949663e-05,\n",
       "         8.36947096e-05,  2.65495342e-04, -1.06279059e-03,  1.64436373e-04,\n",
       "        -1.13139505e-03, -6.25255366e-04, -6.70758790e-04, -2.71354799e-04,\n",
       "        -5.10723326e-04,  1.54704282e-04, -1.01220870e-05, -4.84746751e-04,\n",
       "        -1.48320578e-03, -1.59200324e-03,  1.96076404e-04, -1.44615458e-03,\n",
       "        -1.42180567e-03, -5.77872480e-04,  3.91247270e-04, -6.49551513e-04,\n",
       "        -8.76700020e-04, -1.05284380e-03, -7.74955953e-04, -1.71933458e-03,\n",
       "        -4.25943304e-04, -2.22463655e-03, -9.45172247e-04, -7.72293732e-04,\n",
       "        -2.18233444e-03,  2.55293126e-04, -1.31004946e-03, -9.24972635e-04,\n",
       "        -1.62740517e-03, -5.01851106e-04, -9.47453321e-04, -8.72822263e-04,\n",
       "        -1.00617231e-03, -1.67390936e-03, -6.24534999e-05, -1.56713469e-03,\n",
       "         3.28708034e-04, -1.15085296e-03, -1.42122176e-03,  4.67950130e-04,\n",
       "        -7.91520244e-04,  3.64721745e-04,  1.73709451e-05, -9.35900122e-04,\n",
       "        -1.24532630e-04, -9.79732896e-04])}"
      ]
     },
     "execution_count": 120,
     "metadata": {},
     "output_type": "execute_result"
    }
   ],
   "source": [
    "coefficients_list_dict"
   ]
  },
  {
   "cell_type": "code",
   "execution_count": null,
   "metadata": {},
   "outputs": [],
   "source": []
  }
 ],
 "metadata": {
  "kernelspec": {
   "display_name": "Python 3",
   "language": "python",
   "name": "python3"
  },
  "language_info": {
   "codemirror_mode": {
    "name": "ipython",
    "version": 3
   },
   "file_extension": ".py",
   "mimetype": "text/x-python",
   "name": "python",
   "nbconvert_exporter": "python",
   "pygments_lexer": "ipython3",
   "version": "3.6.4"
  }
 },
 "nbformat": 4,
 "nbformat_minor": 2
}
