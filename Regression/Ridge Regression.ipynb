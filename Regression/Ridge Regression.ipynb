{
 "cells": [
  {
   "cell_type": "code",
   "execution_count": 1,
   "metadata": {},
   "outputs": [],
   "source": [
    "import pandas as pd\n",
    "import numpy as np"
   ]
  },
  {
   "cell_type": "code",
   "execution_count": 2,
   "metadata": {},
   "outputs": [],
   "source": [
    "dtype_dict = {'bathrooms':float, 'waterfront':int, 'sqft_above':int, 'sqft_living15':float, 'grade':int, 'yr_renovated':int, 'price':float, 'bedrooms':float, 'zipcode':str, 'long':float, 'sqft_lot15':float, 'sqft_living':float, 'floors':float, 'condition':int, 'lat':float, 'date':str, 'sqft_basement':int, 'yr_built':int, 'id':str, 'sqft_lot':int, 'view':int}\n",
    "sales = pd.read_csv('kc_house_data.csv.zip', dtype=dtype_dict)\n",
    "Train = pd.read_csv('kc_house_train_data.csv.zip', dtype=dtype_dict)\n",
    "Test = pd.read_csv('kc_house_test_data.csv.zip', dtype=dtype_dict)"
   ]
  },
  {
   "cell_type": "code",
   "execution_count": 4,
   "metadata": {},
   "outputs": [],
   "source": [
    "def get_numpy_data(data,features,output):\n",
    "    data['constant'] = 1\n",
    "    features = ['constant'] + features\n",
    "    feat_data = data[features]\n",
    "    features_matrix = feat_data.values\n",
    "    out = data[output]\n",
    "    output_array = out.values\n",
    "    return(features_matrix, output_array)"
   ]
  },
  {
   "cell_type": "code",
   "execution_count": 5,
   "metadata": {},
   "outputs": [],
   "source": [
    "def predict_out(feat_mat,weights):\n",
    "    return np.dot(feat_mat,weights)"
   ]
  },
  {
   "cell_type": "code",
   "execution_count": 16,
   "metadata": {},
   "outputs": [],
   "source": [
    "def feature_derivative_ridge(errors,weight,feature,l2_penality,feat_is_constant):\n",
    "    if (feat_is_constant):\n",
    "        return 2*np.dot(errors,feature)\n",
    "    else:\n",
    "        return 2*np.dot(errors,feature) + 2*l2_penality*weight"
   ]
  },
  {
   "cell_type": "code",
   "execution_count": 17,
   "metadata": {},
   "outputs": [],
   "source": [
    "feat_mat,output = get_numpy_data(sales,['sqft_living'],'price')"
   ]
  },
  {
   "cell_type": "code",
   "execution_count": 20,
   "metadata": {},
   "outputs": [],
   "source": [
    "weights = np.array([1.,10.])\n",
    "predicted = predict_out(feat_mat=feat_mat,weights=weights)\n",
    "errors = predicted - output\n",
    "derivative_const = feature_derivative_ridge(errors=errors,weight=weights[0],feature=feat_mat[:,1],l2_penality=1,feat_is_constant=True)\n",
    "derivative_not_const = feature_derivative_ridge(errors=errors,weight=weights[1],feature=feat_mat[:,0],l2_penality=1.,feat_is_constant=False)"
   ]
  },
  {
   "cell_type": "code",
   "execution_count": 22,
   "metadata": {},
   "outputs": [
    {
     "data": {
      "text/plain": [
       "(-56554166815970.0, -22446749310.0)"
      ]
     },
     "execution_count": 22,
     "metadata": {},
     "output_type": "execute_result"
    }
   ],
   "source": [
    "derivative_const , derivative_not_const"
   ]
  },
  {
   "cell_type": "code",
   "execution_count": 43,
   "metadata": {},
   "outputs": [],
   "source": [
    "def ridge_regression_gradient_descent(feature_matrix, output, initial_weights, step_size, l2_penalty, max_iterations=100):\n",
    "    weights = np.array(initial_weights) # make sure it's a numpy array\n",
    "        #while not reached maximum number of iterations:\n",
    "        # compute the predictions using your predict_output() function\n",
    "    for i in range (max_iterations):\n",
    "        predictions = predict_out(feat_mat=feature_matrix,weights=weights)\n",
    "        # compute the errors as predictions - output\n",
    "        errors = predictions - output\n",
    "        for i in range(len(weights)): # loop over each weight\n",
    "            # Recall that feature_matrix[:,i] is the feature column associated with weights[i]\n",
    "            # compute the derivative for weight[i].\n",
    "            #(Remember: when i=0, you are computing the derivative of the constant!)\n",
    "            if (i==0):\n",
    "                const = True\n",
    "            else:\n",
    "                const = False\n",
    "            derivative = feature_derivative_ridge(errors=errors,feature=feature_matrix[:,i],l2_penality=l2_penalty,weight=weights[i],feat_is_constant=const)\n",
    "            weights[i] = weights[i] - (derivative*step_size)\n",
    "            # subtract the step size times the derivative from the current weight  \n",
    "    return weights"
   ]
  },
  {
   "cell_type": "code",
   "execution_count": 40,
   "metadata": {},
   "outputs": [],
   "source": [
    "simple_features = ['sqft_living']\n",
    "my_output = 'price'\n",
    "(simple_feature_matrix, output) = get_numpy_data(Train, simple_features, my_output)\n",
    "(simple_test_feature_matrix, test_output) = get_numpy_data(Test, simple_features, my_output)"
   ]
  },
  {
   "cell_type": "code",
   "execution_count": 41,
   "metadata": {},
   "outputs": [],
   "source": [
    "step_size = 1e-12\n",
    "max_iterations = 1000\n",
    "initial_weights = np.array([0.,0.])"
   ]
  },
  {
   "cell_type": "code",
   "execution_count": 51,
   "metadata": {},
   "outputs": [
    {
     "name": "stdout",
     "output_type": "stream",
     "text": [
      "[-1.63113515e-01  2.63024369e+02]\n"
     ]
    }
   ],
   "source": [
    "simple_weights_0_penalty = ridge_regression_gradient_descent(simple_feature_matrix,output,initial_weights, step_size, 0, max_iterations)\n",
    "print(simple_weights_0_penalty)"
   ]
  },
  {
   "cell_type": "code",
   "execution_count": 52,
   "metadata": {},
   "outputs": [
    {
     "name": "stdout",
     "output_type": "stream",
     "text": [
      "[  9.76730382 124.57217567]\n"
     ]
    }
   ],
   "source": [
    "simple_weights_large_penalty = ridge_regression_gradient_descent(simple_feature_matrix,output,initial_weights, step_size, 1e11, max_iterations)\n",
    "print(simple_weights_large_penalty)"
   ]
  },
  {
   "cell_type": "code",
   "execution_count": 53,
   "metadata": {},
   "outputs": [],
   "source": [
    "import matplotlib.pyplot as plt"
   ]
  },
  {
   "cell_type": "code",
   "execution_count": 54,
   "metadata": {},
   "outputs": [
    {
     "data": {
      "text/plain": [
       "[<matplotlib.lines.Line2D at 0x23782c44668>,\n",
       " <matplotlib.lines.Line2D at 0x23782c44d30>]"
      ]
     },
     "execution_count": 54,
     "metadata": {},
     "output_type": "execute_result"
    },
    {
     "data": {
      "image/png": "[encoded data removed]",
      "text/plain": [
       "<matplotlib.figure.Figure at 0x23781bf2e10>"
      ]
     },
     "metadata": {},
     "output_type": "display_data"
    }
   ],
   "source": [
    "%matplotlib inline\n",
    "predicted_Train = predict_out(feat_mat=simple_feature_matrix,weights=simple_weights_large_penalty)\n",
    "plt.plot(Train['sqft_living'],Train['price'],'.',Train['sqft_living'],predicted_Train)"
   ]
  },
  {
   "cell_type": "code",
   "execution_count": 55,
   "metadata": {},
   "outputs": [
    {
     "data": {
      "text/plain": [
       "[<matplotlib.lines.Line2D at 0x23782ce9c88>,\n",
       " <matplotlib.lines.Line2D at 0x23782ce9e48>]"
      ]
     },
     "execution_count": 55,
     "metadata": {},
     "output_type": "execute_result"
    },
    {
     "data": {
      "image/png": "[encoded data removed]",
      "text/plain": [
       "<matplotlib.figure.Figure at 0x23782c6fb00>"
      ]
     },
     "metadata": {},
     "output_type": "display_data"
    }
   ],
   "source": [
    "%matplotlib inline\n",
    "predicted_Train = predict_out(feat_mat=simple_feature_matrix,weights=simple_weights_0_penalty)\n",
    "plt.plot(Train['sqft_living'],Train['price'],'.',Train['sqft_living'],predicted_Train)"
   ]
  },
  {
   "cell_type": "code",
   "execution_count": 58,
   "metadata": {},
   "outputs": [
    {
     "data": {
      "text/plain": [
       "[<matplotlib.lines.Line2D at 0x23782d3ce80>,\n",
       " <matplotlib.lines.Line2D at 0x23782d85048>,\n",
       " <matplotlib.lines.Line2D at 0x23782d85898>,\n",
       " <matplotlib.lines.Line2D at 0x23782d85a20>,\n",
       " <matplotlib.lines.Line2D at 0x23782d8c198>,\n",
       " <matplotlib.lines.Line2D at 0x23782d8c320>]"
      ]
     },
     "execution_count": 58,
     "metadata": {},
     "output_type": "execute_result"
    },
    {
     "data": {
      "image/png": "[encoded data removed]",
      "text/plain": [
       "<matplotlib.figure.Figure at 0x23782c976a0>"
      ]
     },
     "metadata": {},
     "output_type": "display_data"
    }
   ],
   "source": [
    "%matplotlib inline\n",
    "plt.plot(simple_feature_matrix,output,'k.',\n",
    "         simple_feature_matrix,predict_out(simple_feature_matrix, simple_weights_0_penalty),'b-',\n",
    "        simple_feature_matrix,predict_out(simple_feature_matrix, simple_weights_large_penalty),'r-')"
   ]
  },
  {
   "cell_type": "code",
   "execution_count": 68,
   "metadata": {},
   "outputs": [
    {
     "data": {
      "text/plain": [
       "1784273286136298.0"
      ]
     },
     "execution_count": 68,
     "metadata": {},
     "output_type": "execute_result"
    }
   ],
   "source": [
    "# RSS for weights = 0:\n",
    "initial_pred = predict_out(simple_test_feature_matrix,initial_weights)\n",
    "init_residuals = initial_pred - test_output\n",
    "RSS_0 = (init_residuals**2).sum()\n",
    "RSS_0"
   ]
  },
  {
   "cell_type": "code",
   "execution_count": 70,
   "metadata": {},
   "outputs": [
    {
     "data": {
      "text/plain": [
       "275723632153607.44"
      ]
     },
     "execution_count": 70,
     "metadata": {},
     "output_type": "execute_result"
    }
   ],
   "source": [
    "# RSS for weights with 0 l2_pen. :\n",
    "no_regularization_pred = predict_out(simple_test_feature_matrix,simple_weights_0_penalty)\n",
    "no_reg_residuals = no_regularization_pred - test_output\n",
    "RSS_no_reg = (no_reg_residuals**2).sum()\n",
    "RSS_no_reg"
   ]
  },
  {
   "cell_type": "code",
   "execution_count": 71,
   "metadata": {},
   "outputs": [
    {
     "data": {
      "text/plain": [
       "694642101489902.8"
      ]
     },
     "execution_count": 71,
     "metadata": {},
     "output_type": "execute_result"
    }
   ],
   "source": [
    "# RSS for weights with large l2_pen. :\n",
    "regularization_pred = predict_out(simple_test_feature_matrix,simple_weights_large_penalty)\n",
    "reg_residuals = regularization_pred - test_output\n",
    "RSS_reg = (reg_residuals**2).sum()\n",
    "RSS_reg"
   ]
  },
  {
   "cell_type": "code",
   "execution_count": 75,
   "metadata": {},
   "outputs": [],
   "source": [
    "mult_feat_matrix,train_output = get_numpy_data(data=Train,features=['sqft_living','sqft_living15'],output='price')\n",
    "mult_test_feat_matrix,test_output = get_numpy_data(data=Test,features=['sqft_living','sqft_living15'],output='price')"
   ]
  },
  {
   "cell_type": "code",
   "execution_count": 77,
   "metadata": {},
   "outputs": [],
   "source": [
    "initial_weights = np.array([0.,0.,0.])\n",
    "step_size = 1e-12\n",
    "max_iterations = 1000"
   ]
  },
  {
   "cell_type": "code",
   "execution_count": 78,
   "metadata": {},
   "outputs": [
    {
     "data": {
      "text/plain": [
       "1784273286136298.0"
      ]
     },
     "execution_count": 78,
     "metadata": {},
     "output_type": "execute_result"
    }
   ],
   "source": [
    "# RSS for Mult_weights = 0:\n",
    "initial_pred = predict_out(mult_test_feat_matrix,initial_weights)\n",
    "init_residuals = initial_pred - test_output\n",
    "RSS_0 = (init_residuals**2).sum()\n",
    "RSS_0"
   ]
  },
  {
   "cell_type": "code",
   "execution_count": 79,
   "metadata": {},
   "outputs": [],
   "source": [
    "Mult_weights_0pen = ridge_regression_gradient_descent(feature_matrix=mult_feat_matrix,initial_weights=initial_weights,l2_penalty=0,max_iterations=1000,output=train_output,step_size=step_size)"
   ]
  },
  {
   "cell_type": "code",
   "execution_count": 83,
   "metadata": {},
   "outputs": [
    {
     "data": {
      "text/plain": [
       "274067615918575.56"
      ]
     },
     "execution_count": 83,
     "metadata": {},
     "output_type": "execute_result"
    }
   ],
   "source": [
    "# RSS for mult weights with 0 l2_pen. :\n",
    "no_regularization_mult_pred = predict_out(mult_test_feat_matrix,Mult_weights_0pen)\n",
    "no_reg_mult_residuals = no_regularization_mult_pred - test_output\n",
    "RSS_no_reg = (no_reg_mult_residuals**2).sum()\n",
    "RSS_no_reg "
   ]
  },
  {
   "cell_type": "code",
   "execution_count": 84,
   "metadata": {},
   "outputs": [],
   "source": [
    "Mult_weight_largepen = ridge_regression_gradient_descent(feature_matrix=mult_feat_matrix,initial_weights=initial_weights,l2_penalty=1e11,max_iterations=1000,output=train_output,step_size=step_size)"
   ]
  },
  {
   "cell_type": "code",
   "execution_count": 87,
   "metadata": {},
   "outputs": [
    {
     "data": {
      "text/plain": [
       "500404800500841.6"
      ]
     },
     "execution_count": 87,
     "metadata": {},
     "output_type": "execute_result"
    }
   ],
   "source": [
    "# RSS for mult weights with large l2_pen. :\n",
    "regularization_mult_pred = predict_out(mult_test_feat_matrix,Mult_weight_largepen)\n",
    "reg_mult_residuals = regularization_mult_pred - test_output\n",
    "RSS_reg = (reg_mult_residuals**2).sum()\n",
    "RSS_reg"
   ]
  },
  {
   "cell_type": "code",
   "execution_count": 90,
   "metadata": {},
   "outputs": [
    {
     "data": {
      "text/plain": [
       "-39546.469678059395"
      ]
     },
     "execution_count": 90,
     "metadata": {},
     "output_type": "execute_result"
    }
   ],
   "source": [
    "reg_mult_residuals[0]"
   ]
  },
  {
   "cell_type": "code",
   "execution_count": 92,
   "metadata": {},
   "outputs": [
    {
     "data": {
      "text/plain": [
       "77465.47605823533"
      ]
     },
     "execution_count": 92,
     "metadata": {},
     "output_type": "execute_result"
    }
   ],
   "source": [
    "no_reg_mult_residuals[0]"
   ]
  },
  {
   "cell_type": "code",
   "execution_count": null,
   "metadata": {},
   "outputs": [],
   "source": []
  }
 ],
 "metadata": {
  "kernelspec": {
   "display_name": "Python 3",
   "language": "python",
   "name": "python3"
  },
  "language_info": {
   "codemirror_mode": {
    "name": "ipython",
    "version": 3
   },
   "file_extension": ".py",
   "mimetype": "text/x-python",
   "name": "python",
   "nbconvert_exporter": "python",
   "pygments_lexer": "ipython3",
   "version": "3.6.4"
  }
 },
 "nbformat": 4,
 "nbformat_minor": 2
}
