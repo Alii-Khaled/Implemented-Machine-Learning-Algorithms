{
 "cells": [
  {
   "cell_type": "code",
   "execution_count": 16,
   "metadata": {},
   "outputs": [],
   "source": [
    "import pandas as pd\n",
    "import numpy as np\n",
    "from math import sqrt"
   ]
  },
  {
   "cell_type": "code",
   "execution_count": 5,
   "metadata": {},
   "outputs": [],
   "source": [
    "dtype_dict = {'bathrooms':float, 'waterfront':int, 'sqft_above':int, 'sqft_living15':float, 'grade':int, 'yr_renovated':int, 'price':float, 'bedrooms':float, 'zipcode':str, 'long':float, 'sqft_lot15':float, 'sqft_living':float, 'floors':str, 'condition':int, 'lat':float, 'date':str, 'sqft_basement':int, 'yr_built':int, 'id':str, 'sqft_lot':int, 'view':int}\n",
    "Train = pd.read_csv(r'kc_house_train_data.csv.zip',dtype=dtype_dict)\n",
    "Test = pd.read_csv(r'kc_house_test_data.csv.zip',dtype=dtype_dict)"
   ]
  },
  {
   "cell_type": "code",
   "execution_count": 9,
   "metadata": {},
   "outputs": [],
   "source": [
    "def get_numpy_data(data,features,output):\n",
    "    data['constant'] = 1\n",
    "    features = ['constant'] + features\n",
    "    feat_data = data[features]\n",
    "    features_matrix = feat_data.values\n",
    "    out = data[output]\n",
    "    output_array = out.values\n",
    "    return(features_matrix, output_array)"
   ]
  },
  {
   "cell_type": "code",
   "execution_count": 10,
   "metadata": {},
   "outputs": [],
   "source": [
    "def predict_outcome(feature_matrix, weights):\n",
    "    predictions = np.dot(feature_matrix,weights)\n",
    "    return(predictions)"
   ]
  },
  {
   "cell_type": "code",
   "execution_count": 11,
   "metadata": {},
   "outputs": [],
   "source": [
    "feat_mat,out = get_numpy_data(Train,['sqft_living'],'price') # Testing the first function."
   ]
  },
  {
   "cell_type": "code",
   "execution_count": 12,
   "metadata": {},
   "outputs": [],
   "source": [
    "weights = np.ones(2)"
   ]
  },
  {
   "cell_type": "code",
   "execution_count": 13,
   "metadata": {},
   "outputs": [
    {
     "data": {
      "text/plain": [
       "array([1181., 2571.,  771., ..., 1531., 1601., 1021.])"
      ]
     },
     "execution_count": 13,
     "metadata": {},
     "output_type": "execute_result"
    }
   ],
   "source": [
    "predict_outcome(feat_mat,weights)"
   ]
  },
  {
   "cell_type": "code",
   "execution_count": 14,
   "metadata": {},
   "outputs": [],
   "source": [
    "def feature_derivative(errors, feature):\n",
    "    derivative = 2*np.dot(errors,feature)\n",
    "    return(derivative)"
   ]
  },
  {
   "cell_type": "code",
   "execution_count": 15,
   "metadata": {},
   "outputs": [
    {
     "data": {
      "text/plain": [
       "1680"
      ]
     },
     "execution_count": 15,
     "metadata": {},
     "output_type": "execute_result"
    }
   ],
   "source": [
    "# testing the feature_derivative() function.\n",
    "errors = [10,50,70]\n",
    "feature = [3,5,8]\n",
    "feature_derivative(errors,feature)"
   ]
  },
  {
   "cell_type": "code",
   "execution_count": 48,
   "metadata": {},
   "outputs": [],
   "source": [
    "def regression_gradient_descent(feature_matrix, output, initial_weights, step_size, tolerance):\n",
    "    weights = np.array(initial_weights)\n",
    "    predictions = predict_outcome(feature_matrix=feature_matrix,weights=weights)\n",
    "    conv = False\n",
    "    while (not conv):\n",
    "        predictions = predict_outcome(feature_matrix=feature_matrix,weights=weights)\n",
    "        errors = predictions - output\n",
    "        gradient_sum_squares = 0\n",
    "        for i in range (len(weights)):\n",
    "            derv = feature_derivative(errors=errors,feature=feature_matrix[:,i])\n",
    "            weights[i] -= step_size * derv\n",
    "            gradient_sum_squares += derv**2\n",
    "        grad_mag = sqrt(gradient_sum_squares)\n",
    "        if (grad_mag <tolerance):\n",
    "            conv = True\n",
    "    return (weights)"
   ]
  },
  {
   "cell_type": "code",
   "execution_count": 49,
   "metadata": {},
   "outputs": [],
   "source": [
    "#testing regression_gradient_descent() function.\n",
    "features = ['sqft_living']\n",
    "output = 'price'\n",
    "feat_mat , out = get_numpy_data(Train,features,output)\n",
    "ini_weights = np.array([-47000.,1.])\n",
    "step_size = 7e-12\n",
    "tolerance = 2.5e7"
   ]
  },
  {
   "cell_type": "code",
   "execution_count": 50,
   "metadata": {},
   "outputs": [],
   "source": [
    "sim_weights = regression_gradient_descent(feat_mat,out,ini_weights,step_size,tolerance)"
   ]
  },
  {
   "cell_type": "code",
   "execution_count": 51,
   "metadata": {},
   "outputs": [
    {
     "data": {
      "text/plain": [
       "array([-46999.88716555,    281.91211918])"
      ]
     },
     "execution_count": 51,
     "metadata": {},
     "output_type": "execute_result"
    }
   ],
   "source": [
    "sim_weights"
   ]
  },
  {
   "cell_type": "code",
   "execution_count": 54,
   "metadata": {},
   "outputs": [],
   "source": [
    "# for testing regression_gradient_descent() model.\n",
    "test_feat_mat , out = get_numpy_data(Test,features,output)\n",
    "test_pred = predict_outcome(feature_matrix=test_feat_mat,weights=sim_weights) # predicted price for the 1st House is 356134.4 $"
   ]
  },
  {
   "cell_type": "code",
   "execution_count": 56,
   "metadata": {},
   "outputs": [],
   "source": [
    "def RSS(predictions,output):\n",
    "    error = predictions - output\n",
    "    return (error*error).sum()"
   ]
  },
  {
   "cell_type": "code",
   "execution_count": 57,
   "metadata": {},
   "outputs": [
    {
     "data": {
      "text/plain": [
       "275400044902128.3"
      ]
     },
     "execution_count": 57,
     "metadata": {},
     "output_type": "execute_result"
    }
   ],
   "source": [
    "RSS(test_pred,Test['price'])"
   ]
  },
  {
   "cell_type": "code",
   "execution_count": 63,
   "metadata": {},
   "outputs": [],
   "source": [
    "# for multiple Features.\n",
    "features = ['sqft_living','sqft_living15']\n",
    "weights = np.array([-100000.,1.,1.])\n",
    "feat_mat , out = get_numpy_data(data=Train,features=features,output=output)\n",
    "new_weights = regression_gradient_descent(feature_matrix=feat_mat,initial_weights=weights,output=out,step_size=4e-12,tolerance=1e9)"
   ]
  },
  {
   "cell_type": "code",
   "execution_count": 69,
   "metadata": {},
   "outputs": [],
   "source": [
    "test_feat_mat , out = get_numpy_data(Test,features,output)\n",
    "test_pred = predict_outcome(test_feat_mat,new_weights) #predicted price for the 1st House is 366651.41162949 $"
   ]
  },
  {
   "cell_type": "code",
   "execution_count": 73,
   "metadata": {},
   "outputs": [
    {
     "data": {
      "text/plain": [
       "270263443629803.56"
      ]
     },
     "execution_count": 73,
     "metadata": {},
     "output_type": "execute_result"
    }
   ],
   "source": [
    "RSS(predictions=test_pred,output=Test['price'])"
   ]
  },
  {
   "cell_type": "code",
   "execution_count": null,
   "metadata": {},
   "outputs": [],
   "source": []
  }
 ],
 "metadata": {
  "kernelspec": {
   "display_name": "Python 3",
   "language": "python",
   "name": "python3"
  },
  "language_info": {
   "codemirror_mode": {
    "name": "ipython",
    "version": 3
   },
   "file_extension": ".py",
   "mimetype": "text/x-python",
   "name": "python",
   "nbconvert_exporter": "python",
   "pygments_lexer": "ipython3",
   "version": "3.7.2"
  }
 },
 "nbformat": 4,
 "nbformat_minor": 2
}
