{
 "cells": [
  {
   "cell_type": "code",
   "execution_count": 1,
   "metadata": {},
   "outputs": [],
   "source": [
    "import pandas as pd\n",
    "import numpy as np"
   ]
  },
  {
   "cell_type": "code",
   "execution_count": 2,
   "metadata": {},
   "outputs": [],
   "source": [
    "def get_numpy_data(data, features, output):\n",
    "    data['constant'] = 1 # add a constant column to a dataframe\n",
    "    # prepend variable 'constant' to the features list\n",
    "    features = ['constant'] + features\n",
    "    # select the columns of dataframe given by the ‘features’ list into the SFrame ‘features_sframe’\n",
    "\n",
    "    # this will convert the features_sframe into a numpy matrix with GraphLab Create >= 1.7!!\n",
    "    features_matrix = data[features].as_matrix(columns=None)\n",
    "    # assign the column of data_sframe associated with the target to the variable ‘output_sarray’\n",
    "\n",
    "    # this will convert the SArray into a numpy array:\n",
    "    output_array = data[output].as_matrix(columns=None) \n",
    "    return(features_matrix, output_array)"
   ]
  },
  {
   "cell_type": "code",
   "execution_count": 3,
   "metadata": {},
   "outputs": [],
   "source": [
    "def predict_outcome(feature_matrix, weights):\n",
    "    predictions = np.dot(feature_matrix, weights)\n",
    "    return(predictions)"
   ]
  },
  {
   "cell_type": "code",
   "execution_count": 5,
   "metadata": {},
   "outputs": [],
   "source": [
    "dtype_dict = {'bathrooms':float, 'waterfront':int, 'sqft_above':int, 'sqft_living15':float, 'grade':int, 'yr_renovated':int, 'price':float, 'bedrooms':float, 'zipcode':str, 'long':float, 'sqft_lot15':float, 'sqft_living':float, 'floors':float, 'condition':int, 'lat':float, 'date':str, 'sqft_basement':int, 'yr_built':int, 'id':str, 'sqft_lot':int, 'view':int}\n",
    "sales = pd.read_csv('kc_house_data.csv.zip', dtype=dtype_dict)\n",
    "train = pd.read_csv('kc_house_train_data.csv.zip', dtype=dtype_dict)\n",
    "test = pd.read_csv('kc_house_test_data.csv.zip', dtype=dtype_dict)"
   ]
  },
  {
   "cell_type": "code",
   "execution_count": 6,
   "metadata": {},
   "outputs": [],
   "source": [
    "def normalize_features(features):\n",
    "    norms = np.linalg.norm(features, axis=0)\n",
    "    normalized_features = features / norms\n",
    "    return (normalized_features,norms)"
   ]
  },
  {
   "cell_type": "code",
   "execution_count": 12,
   "metadata": {},
   "outputs": [
    {
     "data": {
      "text/plain": [
       "(array([[0.6, 0.6, 0.6],\n",
       "        [0.8, 0.8, 0.8]]), array([ 5., 10., 15.]))"
      ]
     },
     "execution_count": 12,
     "metadata": {},
     "output_type": "execute_result"
    }
   ],
   "source": [
    "normalize_features(np.array([[3,6,9],[4,8,12]]))"
   ]
  },
  {
   "cell_type": "code",
   "execution_count": 17,
   "metadata": {},
   "outputs": [
    {
     "name": "stdout",
     "output_type": "stream",
     "text": [
      "[79400300.01452288, 87939470.82325178, 80966698.66623947]\n"
     ]
    }
   ],
   "source": [
    "feats = ['sqft_living','bedrooms']\n",
    "output = 'price'\n",
    "feat_mat , out = get_numpy_data(sales,feats,output)\n",
    "feat_mat_normalized , norms = normalize_features(features=feat_mat)\n",
    "init_weights = [1.,4.,1.]\n",
    "init_pred = predict_outcome(feat_mat_normalized,init_weights)\n",
    "P = list()\n",
    "for i in range(len(feats)+1):\n",
    "    x = np.dot(feat_mat_normalized[:,i],(out - init_pred + (init_weights[i]*feat_mat_normalized[:,i])))\n",
    "    P.append(x)\n",
    "print(P)"
   ]
  },
  {
   "cell_type": "code",
   "execution_count": 20,
   "metadata": {},
   "outputs": [
    {
     "data": {
      "text/plain": [
       "[161933397.33247894, 175878941.64650357]"
      ]
     },
     "execution_count": 20,
     "metadata": {},
     "output_type": "execute_result"
    }
   ],
   "source": [
    "range_l1penalty = [2*P[2], 2*P[1]]\n",
    "range_l1penalty"
   ]
  },
  {
   "cell_type": "code",
   "execution_count": 22,
   "metadata": {},
   "outputs": [],
   "source": [
    "def lasso_coordinate_descent_step(i, feature_matrix, output, weights, l1_penalty):\n",
    "    # compute prediction\n",
    "    prediction = predict_outcome(feature_matrix, weights)\n",
    "    # compute ro[i] = SUM[ [feature_i]*(output - prediction + weight[i]*[feature_i]) ]\n",
    "    ro_i = np.dot(feature_matrix[:,i],(output - prediction + weights[i]*feature_matrix[:,i]))\n",
    "    \n",
    "    if i == 0: # intercept -- do not regularize\n",
    "        new_weight_i = ro_i\n",
    "    elif ro_i < -l1_penalty/2.:\n",
    "        new_weight_i = ro_i + l1_penalty/2\n",
    "    elif ro_i > l1_penalty/2.:\n",
    "        new_weight_i = ro_i - l1_penalty/2\n",
    "    else:\n",
    "        new_weight_i = 0.\n",
    "        \n",
    "    return new_weight_i"
   ]
  },
  {
   "cell_type": "code",
   "execution_count": 24,
   "metadata": {},
   "outputs": [
    {
     "name": "stdout",
     "output_type": "stream",
     "text": [
      "0.4255588466910251\n"
     ]
    }
   ],
   "source": [
    "# should print 0.425558846691\n",
    "import math\n",
    "print (lasso_coordinate_descent_step(1, np.array([[3./math.sqrt(13),1./math.sqrt(10)],\n",
    "                   [2./math.sqrt(13),3./math.sqrt(10)]]), np.array([1., 1.]), np.array([1., 4.]), 0.1))"
   ]
  },
  {
   "cell_type": "code",
   "execution_count": 40,
   "metadata": {},
   "outputs": [],
   "source": [
    "def lasso_cyclical_coordinate_descent(feature_matrix, output, initial_weights, l1_penalty, tolerance):\n",
    "    max_change = tolerance+1\n",
    "    weights = initial_weights\n",
    "    while (max_change > tolerance):\n",
    "        max_change = 0\n",
    "        for i in range(len(weights)):\n",
    "            new_weight = lasso_coordinate_descent_step(i, feature_matrix, output, weights, l1_penalty)\n",
    "            if (np.abs(new_weight-weights[i]) > max_change ):\n",
    "                max_change = np.abs(new_weight-weights[i])\n",
    "            weights[i] = new_weight\n",
    "    return weights"
   ]
  },
  {
   "cell_type": "code",
   "execution_count": 99,
   "metadata": {},
   "outputs": [
    {
     "name": "stdout",
     "output_type": "stream",
     "text": [
      "[21624997.95951901 63157247.20788965        0.        ]\n"
     ]
    }
   ],
   "source": [
    "initial_weights = np.zeros(3)\n",
    "L1_penalty = 1e7\n",
    "Tolerance = 1.0\n",
    "out = sales['price']\n",
    "weights = lasso_cyclical_coordinate_descent(feat_mat_normalized,out,initial_weights,L1_penalty,Tolerance)\n",
    "print(weights)"
   ]
  },
  {
   "cell_type": "code",
   "execution_count": 42,
   "metadata": {},
   "outputs": [],
   "source": [
    "def RSS(out , pred):\n",
    "    return np.sum((out-pred)**2)"
   ]
  },
  {
   "cell_type": "code",
   "execution_count": 44,
   "metadata": {},
   "outputs": [
    {
     "data": {
      "text/plain": [
       "1630492476715385.5"
      ]
     },
     "execution_count": 44,
     "metadata": {},
     "output_type": "execute_result"
    }
   ],
   "source": [
    "RSS (out,predict_outcome(feat_mat_normalized,weights))"
   ]
  },
  {
   "cell_type": "code",
   "execution_count": 45,
   "metadata": {},
   "outputs": [],
   "source": [
    "features = ['bedrooms','bathrooms','sqft_living','sqft_lot','floors','waterfront','view','condition','grade','sqft_above','sqft_basement','yr_built','yr_renovated']"
   ]
  },
  {
   "cell_type": "code",
   "execution_count": 68,
   "metadata": {},
   "outputs": [],
   "source": [
    "output = 'price'\n",
    "train_feat_mat , out = get_numpy_data(train,features,output)\n",
    "train_feat_norm , norms = normalize_features(train_feat_mat)"
   ]
  },
  {
   "cell_type": "code",
   "execution_count": 76,
   "metadata": {},
   "outputs": [],
   "source": [
    "l1_penalty = 1e7\n",
    "initialize_weights = np.zeros(14)\n",
    "tolerance = 1.0"
   ]
  },
  {
   "cell_type": "code",
   "execution_count": 77,
   "metadata": {},
   "outputs": [],
   "source": [
    "weights1e7 = lasso_cyclical_coordinate_descent(train_feat_norm, out,initialize_weights, l1_penalty, tolerance)"
   ]
  },
  {
   "cell_type": "code",
   "execution_count": 78,
   "metadata": {},
   "outputs": [
    {
     "data": {
      "text/plain": [
       "intercept        2.442960e+07\n",
       "bedrooms         0.000000e+00\n",
       "bathrooms        0.000000e+00\n",
       "sqft_living      4.838917e+07\n",
       "sqft_lot         0.000000e+00\n",
       "floors           0.000000e+00\n",
       "waterfront       3.317511e+06\n",
       "view             7.329962e+06\n",
       "condition        0.000000e+00\n",
       "grade            0.000000e+00\n",
       "sqft_above       0.000000e+00\n",
       "sqft_basement    0.000000e+00\n",
       "yr_built         0.000000e+00\n",
       "yr_renovated     0.000000e+00\n",
       "dtype: float64"
      ]
     },
     "execution_count": 78,
     "metadata": {},
     "output_type": "execute_result"
    }
   ],
   "source": [
    "pd.Series(weights1e7,index=['intercept']+features)"
   ]
  },
  {
   "cell_type": "code",
   "execution_count": 88,
   "metadata": {},
   "outputs": [],
   "source": [
    "l1_penalty = 1e8\n",
    "initialize_weights = np.zeros(14)\n",
    "tolerance = 1.0"
   ]
  },
  {
   "cell_type": "code",
   "execution_count": 89,
   "metadata": {},
   "outputs": [],
   "source": [
    "weights1e8 = lasso_cyclical_coordinate_descent(train_feat_norm, out,initialize_weights, l1_penalty, tolerance)"
   ]
  },
  {
   "cell_type": "code",
   "execution_count": 81,
   "metadata": {},
   "outputs": [
    {
     "data": {
      "text/plain": [
       "intercept        7.111463e+07\n",
       "bedrooms         0.000000e+00\n",
       "bathrooms        0.000000e+00\n",
       "sqft_living      0.000000e+00\n",
       "sqft_lot         0.000000e+00\n",
       "floors           0.000000e+00\n",
       "waterfront       0.000000e+00\n",
       "view             0.000000e+00\n",
       "condition        0.000000e+00\n",
       "grade            0.000000e+00\n",
       "sqft_above       0.000000e+00\n",
       "sqft_basement    0.000000e+00\n",
       "yr_built         0.000000e+00\n",
       "yr_renovated     0.000000e+00\n",
       "dtype: float64"
      ]
     },
     "execution_count": 81,
     "metadata": {},
     "output_type": "execute_result"
    }
   ],
   "source": [
    "pd.Series(weights1e8,index=['intercept']+features)"
   ]
  },
  {
   "cell_type": "code",
   "execution_count": 82,
   "metadata": {},
   "outputs": [],
   "source": [
    "l1_penalty = 1e4\n",
    "tolerance = 5e5\n",
    "weights1e4 = lasso_cyclical_coordinate_descent(train_feat_norm, out,initialize_weights, l1_penalty, tolerance)"
   ]
  },
  {
   "cell_type": "code",
   "execution_count": 83,
   "metadata": {},
   "outputs": [
    {
     "data": {
      "text/plain": [
       "intercept        7.856474e+07\n",
       "bedrooms        -2.209740e+07\n",
       "bathrooms        1.279107e+07\n",
       "sqft_living      9.380809e+07\n",
       "sqft_lot        -2.013173e+06\n",
       "floors          -4.219185e+06\n",
       "waterfront       6.482843e+06\n",
       "view             7.127409e+06\n",
       "condition        5.001665e+06\n",
       "grade            1.432752e+07\n",
       "sqft_above      -1.577096e+07\n",
       "sqft_basement   -5.159591e+06\n",
       "yr_built        -8.449534e+07\n",
       "yr_renovated     2.824439e+06\n",
       "dtype: float64"
      ]
     },
     "execution_count": 83,
     "metadata": {},
     "output_type": "execute_result"
    }
   ],
   "source": [
    "pd.Series(weights1e4, index=['intercept']+features)"
   ]
  },
  {
   "cell_type": "code",
   "execution_count": 92,
   "metadata": {},
   "outputs": [
    {
     "data": {
      "text/plain": [
       "161.3174576461177"
      ]
     },
     "execution_count": 92,
     "metadata": {},
     "output_type": "execute_result"
    }
   ],
   "source": [
    "weights1e7_normalized = weights1e7 / norms\n",
    "weights1e8_normalized = weights1e8 / norms\n",
    "weights1e4_normalized = weights1e4 / norms\n",
    "weights1e7_normalized[3]"
   ]
  },
  {
   "cell_type": "code",
   "execution_count": 94,
   "metadata": {},
   "outputs": [],
   "source": [
    "(test_feature_matrix, test_output) = get_numpy_data(test, features, 'price')"
   ]
  },
  {
   "cell_type": "code",
   "execution_count": 96,
   "metadata": {},
   "outputs": [
    {
     "name": "stdout",
     "output_type": "stream",
     "text": [
      "228459958971392.7\n"
     ]
    }
   ],
   "source": [
    "print (sum((test_output - predict_outcome(test_feature_matrix,weights1e4_normalized) )**2))"
   ]
  },
  {
   "cell_type": "code",
   "execution_count": 97,
   "metadata": {},
   "outputs": [
    {
     "name": "stdout",
     "output_type": "stream",
     "text": [
      "275962075920366.56\n",
      "537166151497321.94\n"
     ]
    }
   ],
   "source": [
    "print (sum((test_output - predict_outcome(test_feature_matrix,weights1e7_normalized) )**2))\n",
    "print (sum((test_output - predict_outcome(test_feature_matrix,weights1e8_normalized) )**2))"
   ]
  },
  {
   "cell_type": "code",
   "execution_count": null,
   "metadata": {},
   "outputs": [],
   "source": []
  }
 ],
 "metadata": {
  "kernelspec": {
   "display_name": "Python 3",
   "language": "python",
   "name": "python3"
  },
  "language_info": {
   "codemirror_mode": {
    "name": "ipython",
    "version": 3
   },
   "file_extension": ".py",
   "mimetype": "text/x-python",
   "name": "python",
   "nbconvert_exporter": "python",
   "pygments_lexer": "ipython3",
   "version": "3.6.4"
  }
 },
 "nbformat": 4,
 "nbformat_minor": 2
}
